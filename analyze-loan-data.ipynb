{
 "cells": [
  {
   "cell_type": "markdown",
   "id": "7c54b041-7265-4b91-b877-b53bbcdbf28b",
   "metadata": {
    "jp-MarkdownHeadingCollapsed": true
   },
   "source": [
    "### Importing Libraries"
   ]
  },
  {
   "cell_type": "code",
   "execution_count": 1,
   "id": "7dbe8839-2e97-48e6-94c5-64bc1a267c8b",
   "metadata": {},
   "outputs": [],
   "source": [
    "import pandas as pd \n",
    "import numpy as np \n"
   ]
  },
  {
   "cell_type": "code",
   "execution_count": 2,
   "id": "ef2a039a-b264-4f70-8413-d3784431b1a6",
   "metadata": {},
   "outputs": [],
   "source": [
    "np.set_printoptions(suppress=True, linewidth=100, precision=2)"
   ]
  },
  {
   "cell_type": "markdown",
   "id": "c39c8618-9f0c-496b-88b3-6148ddbd523e",
   "metadata": {
    "jp-MarkdownHeadingCollapsed": true
   },
   "source": [
    "### Importing Data"
   ]
  },
  {
   "cell_type": "code",
   "execution_count": 3,
   "id": "5b6e4547-47c4-4f06-a2d7-fc420d08b18d",
   "metadata": {},
   "outputs": [],
   "source": [
    "filePath = 'loan-data.csv'\n",
    "loaded_loan_data = np.genfromtxt('loan-data-utf8.csv', delimiter=';',skip_header=1, autostrip=True)"
   ]
  },
  {
   "cell_type": "code",
   "execution_count": 4,
   "id": "9df90165-83d7-4241-8016-aa648c30a524",
   "metadata": {},
   "outputs": [
    {
     "data": {
      "text/plain": [
       "array([[48010226.  ,         nan,    35000.  , ...,         nan,         nan,     9452.96],\n",
       "       [57693261.  ,         nan,    30000.  , ...,         nan,         nan,     4679.7 ],\n",
       "       [59432726.  ,         nan,    15000.  , ...,         nan,         nan,     1969.83],\n",
       "       ...,\n",
       "       [50415990.  ,         nan,    10000.  , ...,         nan,         nan,     2185.64],\n",
       "       [46154151.  ,         nan,         nan, ...,         nan,         nan,     3199.4 ],\n",
       "       [66055249.  ,         nan,    10000.  , ...,         nan,         nan,      301.9 ]],\n",
       "      shape=(10000, 14))"
      ]
     },
     "execution_count": 4,
     "metadata": {},
     "output_type": "execute_result"
    }
   ],
   "source": [
    "loaded_loan_data"
   ]
  },
  {
   "cell_type": "markdown",
   "id": "71697c5b-af2f-4c79-b97b-719a1351d8d5",
   "metadata": {
    "jp-MarkdownHeadingCollapsed": true
   },
   "source": [
    "### Checking Incomplete Data"
   ]
  },
  {
   "cell_type": "code",
   "execution_count": 5,
   "id": "f33e8f7f-9ab0-4016-a754-04fbb83950c7",
   "metadata": {},
   "outputs": [
    {
     "name": "stdout",
     "output_type": "stream",
     "text": [
      "88005\n",
      "(10000, 14)\n"
     ]
    }
   ],
   "source": [
    "print(np.isnan(loaded_loan_data).sum())\n",
    "print(loaded_loan_data.shape)"
   ]
  },
  {
   "cell_type": "code",
   "execution_count": 6,
   "id": "1cd91ebb-cd8e-4e02-96c0-2949aa7d447a",
   "metadata": {},
   "outputs": [
    {
     "name": "stderr",
     "output_type": "stream",
     "text": [
      "/var/folders/xz/qxr61_851tb6_f56ygv7nw980000gn/T/ipykernel_22889/2899459135.py:2: RuntimeWarning: Mean of empty slice\n",
      "  temporary_fill_mean = np.nanmean(loaded_loan_data, axis=0)\n"
     ]
    }
   ],
   "source": [
    "temporary_fill_highest = np.nanmax(loaded_loan_data) + 1\n",
    "temporary_fill_mean = np.nanmean(loaded_loan_data, axis=0)\n"
   ]
  },
  {
   "cell_type": "code",
   "execution_count": 7,
   "id": "7dda856c-5230-4a7a-b445-ad1e109cc2a4",
   "metadata": {},
   "outputs": [
    {
     "data": {
      "text/plain": [
       "np.float64(68616520.0)"
      ]
     },
     "execution_count": 7,
     "metadata": {},
     "output_type": "execute_result"
    }
   ],
   "source": [
    "temporary_fill_highest"
   ]
  },
  {
   "cell_type": "code",
   "execution_count": 8,
   "id": "5dd01f2b-e63e-4b35-a8b1-86236c894b62",
   "metadata": {},
   "outputs": [
    {
     "data": {
      "text/plain": [
       "array([54015809.19,         nan,    15273.46,         nan,    15311.04,         nan,       16.62,\n",
       "            440.92,         nan,         nan,         nan,         nan,         nan,     3143.85])"
      ]
     },
     "execution_count": 8,
     "metadata": {},
     "output_type": "execute_result"
    }
   ],
   "source": [
    "temporary_fill_mean"
   ]
  },
  {
   "cell_type": "code",
   "execution_count": 9,
   "id": "3c97ceee-e1c1-423b-8787-6fd8e9073212",
   "metadata": {},
   "outputs": [
    {
     "name": "stderr",
     "output_type": "stream",
     "text": [
      "/var/folders/xz/qxr61_851tb6_f56ygv7nw980000gn/T/ipykernel_22889/3083744874.py:1: RuntimeWarning: All-NaN slice encountered\n",
      "  temporary_stats = np.array([np.nanmin(loaded_loan_data,  axis = 0),\n",
      "/var/folders/xz/qxr61_851tb6_f56ygv7nw980000gn/T/ipykernel_22889/3083744874.py:3: RuntimeWarning: All-NaN slice encountered\n",
      "  np.nanmax(loaded_loan_data, axis = 0)])\n"
     ]
    }
   ],
   "source": [
    "temporary_stats = np.array([np.nanmin(loaded_loan_data,  axis = 0),\n",
    "                            temporary_fill_mean, \n",
    "                            np.nanmax(loaded_loan_data, axis = 0)])\n",
    "                         "
   ]
  },
  {
   "cell_type": "code",
   "execution_count": 10,
   "id": "e93e161d-48ac-41c0-8c6e-cd9180427bd0",
   "metadata": {},
   "outputs": [
    {
     "data": {
      "text/plain": [
       "array([[  373332.  ,         nan,     1000.  ,         nan,     1000.  ,         nan,        6.  ,\n",
       "              31.42,         nan,         nan,         nan,         nan,         nan,        0.  ],\n",
       "       [54015809.19,         nan,    15273.46,         nan,    15311.04,         nan,       16.62,\n",
       "             440.92,         nan,         nan,         nan,         nan,         nan,     3143.85],\n",
       "       [68616519.  ,         nan,    35000.  ,         nan,    35000.  ,         nan,       28.99,\n",
       "            1372.97,         nan,         nan,         nan,         nan,         nan,    41913.62]])"
      ]
     },
     "execution_count": 10,
     "metadata": {},
     "output_type": "execute_result"
    }
   ],
   "source": [
    "temporary_stats"
   ]
  },
  {
   "cell_type": "markdown",
   "id": "7d8ae4cb-5199-4fb5-a952-ff2db4ebbccf",
   "metadata": {
    "jp-MarkdownHeadingCollapsed": true
   },
   "source": [
    "### Splitting the Dataset"
   ]
  },
  {
   "cell_type": "code",
   "execution_count": 11,
   "id": "e3b7cc3e-e807-46f8-bc11-36800678846e",
   "metadata": {},
   "outputs": [
    {
     "data": {
      "text/plain": [
       "array([ 1,  3,  5,  8,  9, 10, 11, 12])"
      ]
     },
     "execution_count": 11,
     "metadata": {},
     "output_type": "execute_result"
    }
   ],
   "source": [
    "columns_Strings = np.argwhere(np.isnan(temporary_fill_mean)).squeeze()\n",
    "columns_Strings"
   ]
  },
  {
   "cell_type": "code",
   "execution_count": 12,
   "id": "14db2849-ba8c-4a8a-a26b-92c23df0edff",
   "metadata": {},
   "outputs": [
    {
     "data": {
      "text/plain": [
       "array([ 0,  2,  4,  6,  7, 13])"
      ]
     },
     "execution_count": 12,
     "metadata": {},
     "output_type": "execute_result"
    }
   ],
   "source": [
    "columns_numeric = np.argwhere(np.isnan(temporary_fill_mean) == False).squeeze()\n",
    "columns_numeric "
   ]
  },
  {
   "cell_type": "markdown",
   "id": "12980025-2302-4406-8fdd-93202d97f8fd",
   "metadata": {
    "jp-MarkdownHeadingCollapsed": true
   },
   "source": [
    "### Re-Importing the Data"
   ]
  },
  {
   "cell_type": "code",
   "execution_count": 13,
   "id": "36e958c9-2788-47c0-ba2b-454a9e11208a",
   "metadata": {},
   "outputs": [],
   "source": [
    "loaded_loan_strings = np.genfromtxt('loan-data-utf8.csv', delimiter=';',skip_header=1, autostrip=True, usecols = columns_Strings, dtype=str)\n",
    "loaded_loan_numeric = np.genfromtxt('loan-data-utf8.csv', delimiter=';',skip_header=1, autostrip=True, usecols = columns_numeric, filling_values=temporary_fill_highest)"
   ]
  },
  {
   "cell_type": "code",
   "execution_count": 14,
   "id": "dcc28fc2-3676-4294-96bf-4742e69a5621",
   "metadata": {},
   "outputs": [
    {
     "data": {
      "text/plain": [
       "array([['May-15', 'Current', '36 months', ..., 'Verified',\n",
       "        'https://www.lendingclub.com/browse/loanDetail.action?loan_id=48010226', 'CA'],\n",
       "       ['', 'Current', '36 months', ..., 'Source Verified',\n",
       "        'https://www.lendingclub.com/browse/loanDetail.action?loan_id=57693261', 'NY'],\n",
       "       ['Sep-15', 'Current', '36 months', ..., 'Verified',\n",
       "        'https://www.lendingclub.com/browse/loanDetail.action?loan_id=59432726', 'PA'],\n",
       "       ...,\n",
       "       ['Jun-15', 'Current', '36 months', ..., 'Source Verified',\n",
       "        'https://www.lendingclub.com/browse/loanDetail.action?loan_id=50415990', 'CA'],\n",
       "       ['Apr-15', 'Current', '36 months', ..., 'Source Verified',\n",
       "        'https://www.lendingclub.com/browse/loanDetail.action?loan_id=46154151', 'OH'],\n",
       "       ['Dec-15', 'Current', '36 months', ..., '',\n",
       "        'https://www.lendingclub.com/browse/loanDetail.action?loan_id=66055249', 'IL']],\n",
       "      shape=(10000, 8), dtype='<U69')"
      ]
     },
     "execution_count": 14,
     "metadata": {},
     "output_type": "execute_result"
    }
   ],
   "source": [
    "loaded_loan_strings"
   ]
  },
  {
   "cell_type": "code",
   "execution_count": 15,
   "id": "9a72b9d8-165f-4ea1-9ff0-398e36bb7223",
   "metadata": {},
   "outputs": [
    {
     "data": {
      "text/plain": [
       "array([[48010226.  ,    35000.  ,    35000.  ,       13.33,     1184.86,     9452.96],\n",
       "       [57693261.  ,    30000.  ,    30000.  , 68616520.  ,      938.57,     4679.7 ],\n",
       "       [59432726.  ,    15000.  ,    15000.  , 68616520.  ,      494.86,     1969.83],\n",
       "       ...,\n",
       "       [50415990.  ,    10000.  ,    10000.  , 68616520.  , 68616520.  ,     2185.64],\n",
       "       [46154151.  , 68616520.  ,    10000.  ,       16.55,      354.3 ,     3199.4 ],\n",
       "       [66055249.  ,    10000.  ,    10000.  , 68616520.  ,      309.97,      301.9 ]],\n",
       "      shape=(10000, 6))"
      ]
     },
     "execution_count": 15,
     "metadata": {},
     "output_type": "execute_result"
    }
   ],
   "source": [
    "loaded_loan_numeric"
   ]
  },
  {
   "cell_type": "code",
   "execution_count": 16,
   "id": "bd5d3a9d-e62e-4531-8a93-649d83090a7e",
   "metadata": {},
   "outputs": [
    {
     "data": {
      "text/plain": [
       "array(['id', 'issue_d', 'loan_amnt', 'loan_status', 'funded_amnt', 'term', 'int_rate',\n",
       "       'installment', 'grade', 'sub_grade', 'verification_status', 'url', 'addr_state',\n",
       "       'total_pymnt'], dtype='<U19')"
      ]
     },
     "execution_count": 16,
     "metadata": {},
     "output_type": "execute_result"
    }
   ],
   "source": [
    "loaded_headers = np.genfromtxt('loan-data-utf8.csv', delimiter=';',skip_footer=loaded_loan_data.shape[0],dtype=str , autostrip=True)\n",
    "loaded_headers\n"
   ]
  },
  {
   "cell_type": "code",
   "execution_count": 17,
   "id": "dc2691b8-e2bf-4b34-8ea0-d511125ec52d",
   "metadata": {},
   "outputs": [],
   "source": [
    "header_strings, header_numeric = loaded_headers[columns_Strings], loaded_headers[columns_numeric]"
   ]
  },
  {
   "cell_type": "code",
   "execution_count": 18,
   "id": "938cac82-1d15-44ff-8bea-8726375367c1",
   "metadata": {},
   "outputs": [
    {
     "name": "stdout",
     "output_type": "stream",
     "text": [
      "['issue_d' 'loan_status' 'term' 'grade' 'sub_grade' 'verification_status' 'url' 'addr_state']\n",
      "['id' 'loan_amnt' 'funded_amnt' 'int_rate' 'installment' 'total_pymnt']\n"
     ]
    }
   ],
   "source": [
    "print(header_strings)\n",
    "\n",
    "print(header_numeric)"
   ]
  },
  {
   "cell_type": "markdown",
   "id": "527ba23f-753c-4d86-b591-038752624d5e",
   "metadata": {
    "jp-MarkdownHeadingCollapsed": true
   },
   "source": [
    "### Creating Checkpoints"
   ]
  },
  {
   "cell_type": "code",
   "execution_count": 128,
   "id": "0e560ecc-2efa-4688-98b3-4292c9f921c2",
   "metadata": {},
   "outputs": [],
   "source": [
    "def checkpoint(file_name, checkpoint_header, checkpoint_data):\n",
    "    np.savez(file_name, header=checkpoint_header, data=checkpoint_data)\n",
    "    checkpoint_variable = np.load(file_name + \".npz\")\n",
    "    return (checkpoint_variable)"
   ]
  },
  {
   "cell_type": "code",
   "execution_count": 20,
   "id": "b9f3bf84-7a7b-4713-be02-2f2d860e9a2e",
   "metadata": {},
   "outputs": [
    {
     "data": {
      "text/plain": [
       "array([['May-15', 'Current', '36 months', ..., 'Verified',\n",
       "        'https://www.lendingclub.com/browse/loanDetail.action?loan_id=48010226', 'CA'],\n",
       "       ['', 'Current', '36 months', ..., 'Source Verified',\n",
       "        'https://www.lendingclub.com/browse/loanDetail.action?loan_id=57693261', 'NY'],\n",
       "       ['Sep-15', 'Current', '36 months', ..., 'Verified',\n",
       "        'https://www.lendingclub.com/browse/loanDetail.action?loan_id=59432726', 'PA'],\n",
       "       ...,\n",
       "       ['Jun-15', 'Current', '36 months', ..., 'Source Verified',\n",
       "        'https://www.lendingclub.com/browse/loanDetail.action?loan_id=50415990', 'CA'],\n",
       "       ['Apr-15', 'Current', '36 months', ..., 'Source Verified',\n",
       "        'https://www.lendingclub.com/browse/loanDetail.action?loan_id=46154151', 'OH'],\n",
       "       ['Dec-15', 'Current', '36 months', ..., '',\n",
       "        'https://www.lendingclub.com/browse/loanDetail.action?loan_id=66055249', 'IL']],\n",
       "      shape=(10000, 8), dtype='<U69')"
      ]
     },
     "execution_count": 20,
     "metadata": {},
     "output_type": "execute_result"
    }
   ],
   "source": [
    "checkpoint_strings = checkpoint('checkpoint-strings', header_strings, loaded_loan_strings)\n",
    "checkpoint_strings['data']"
   ]
  },
  {
   "cell_type": "markdown",
   "id": "11fbb562-2ed8-4078-bb55-b09729a24a46",
   "metadata": {
    "jp-MarkdownHeadingCollapsed": true
   },
   "source": [
    "### Manipulating String Columns"
   ]
  },
  {
   "cell_type": "code",
   "execution_count": 21,
   "id": "d0b7c8e2-bcdf-4e60-b4ae-3ba8c9fb2658",
   "metadata": {},
   "outputs": [
    {
     "data": {
      "text/plain": [
       "array(['issue_d', 'loan_status', 'term', 'grade', 'sub_grade', 'verification_status', 'url',\n",
       "       'addr_state'], dtype='<U19')"
      ]
     },
     "execution_count": 21,
     "metadata": {},
     "output_type": "execute_result"
    }
   ],
   "source": [
    "header_strings"
   ]
  },
  {
   "cell_type": "code",
   "execution_count": 22,
   "id": "fa8c1a85-18b9-4a4c-88bc-480ab038dd50",
   "metadata": {},
   "outputs": [],
   "source": [
    "header_strings[0] = 'issue_date'"
   ]
  },
  {
   "cell_type": "code",
   "execution_count": 23,
   "id": "6c37b9b6-db14-4693-b216-cd4d709a6567",
   "metadata": {},
   "outputs": [
    {
     "data": {
      "text/plain": [
       "array(['issue_date', 'loan_status', 'term', 'grade', 'sub_grade', 'verification_status', 'url',\n",
       "       'addr_state'], dtype='<U19')"
      ]
     },
     "execution_count": 23,
     "metadata": {},
     "output_type": "execute_result"
    }
   ],
   "source": [
    "header_strings"
   ]
  },
  {
   "cell_type": "code",
   "execution_count": 24,
   "id": "5f74e00a-2acc-4e84-b661-f26bdf0bbe09",
   "metadata": {},
   "outputs": [
    {
     "data": {
      "text/plain": [
       "array(['May-15', '', 'Sep-15', ..., 'Jun-15', 'Apr-15', 'Dec-15'], shape=(10000,), dtype='<U69')"
      ]
     },
     "execution_count": 24,
     "metadata": {},
     "output_type": "execute_result"
    }
   ],
   "source": [
    "loaded_loan_strings[:,0]"
   ]
  },
  {
   "cell_type": "markdown",
   "id": "e6b07cc8-cd9d-4462-b7c9-227722c6aa0b",
   "metadata": {
    "jp-MarkdownHeadingCollapsed": true
   },
   "source": [
    "### Issue Date"
   ]
  },
  {
   "cell_type": "code",
   "execution_count": 25,
   "id": "876edbbd-a481-45e6-a448-fbe5c2028861",
   "metadata": {
    "scrolled": true
   },
   "outputs": [
    {
     "name": "stdout",
     "output_type": "stream",
     "text": [
      "['' 'Apr-15' 'Aug-15' 'Dec-15' 'Feb-15' 'Jan-15' 'Jul-15' 'Jun-15' 'Mar-15' 'May-15' 'Nov-15'\n",
      " 'Oct-15' 'Sep-15']\n",
      "['May' '' 'Sep' ... 'Jun' 'Apr' 'Dec']\n"
     ]
    },
    {
     "name": "stderr",
     "output_type": "stream",
     "text": [
      "/var/folders/xz/qxr61_851tb6_f56ygv7nw980000gn/T/ipykernel_22889/335437018.py:2: DeprecationWarning: `np.chararray` is deprecated and will be removed from the main namespace in the future. Use an array with a string or bytes dtype instead.\n",
      "  loaded_loan_strings[:,0] = np.chararray.strip(loaded_loan_strings[:,0], \"-15\")\n"
     ]
    }
   ],
   "source": [
    "print(np.unique(loaded_loan_strings[:,0]))\n",
    "loaded_loan_strings[:,0] = np.chararray.strip(loaded_loan_strings[:,0], \"-15\")\n",
    "print(loaded_loan_strings[:,0])\n"
   ]
  },
  {
   "cell_type": "code",
   "execution_count": 26,
   "id": "4d769f92-6f9b-4ac8-bff6-8f5a1f42b93d",
   "metadata": {},
   "outputs": [],
   "source": [
    "months = np.array(['','Jan','Feb','Mar','Apr','May','Jun','Jul','Aug','Sep','Oct','Nov','Dec'])"
   ]
  },
  {
   "cell_type": "code",
   "execution_count": 27,
   "id": "97bfa70d-cb1c-4fea-84bc-de1770896c08",
   "metadata": {},
   "outputs": [],
   "source": [
    "for i in range(13):\n",
    "    loaded_loan_strings[:,0] = np.where(loaded_loan_strings[:,0]== months[i],\n",
    "                                       str(i),\n",
    "                                       loaded_loan_strings[:,0])"
   ]
  },
  {
   "cell_type": "code",
   "execution_count": 28,
   "id": "9fd1acdb-ced5-44af-8bf5-dd112744e34e",
   "metadata": {},
   "outputs": [
    {
     "data": {
      "text/plain": [
       "array(['0', '1', '10', '11', '12', '2', '3', '4', '5', '6', '7', '8', '9'], dtype='<U69')"
      ]
     },
     "execution_count": 28,
     "metadata": {},
     "output_type": "execute_result"
    }
   ],
   "source": [
    "loaded_loan_strings[:,0]\n",
    "np.unique(loaded_loan_strings[:,0])"
   ]
  },
  {
   "cell_type": "code",
   "execution_count": 29,
   "id": "3b5b4f84-0096-4cdb-86bd-7b9cdb1e16a3",
   "metadata": {},
   "outputs": [
    {
     "data": {
      "text/plain": [
       "array(['issue_date', 'loan_status', 'term', 'grade', 'sub_grade', 'verification_status', 'url',\n",
       "       'addr_state'], dtype='<U19')"
      ]
     },
     "execution_count": 29,
     "metadata": {},
     "output_type": "execute_result"
    }
   ],
   "source": [
    "header_strings"
   ]
  },
  {
   "cell_type": "markdown",
   "id": "eb425d92-044f-4545-bddb-b578edd53b29",
   "metadata": {
    "jp-MarkdownHeadingCollapsed": true
   },
   "source": [
    "### Loan Status"
   ]
  },
  {
   "cell_type": "code",
   "execution_count": 30,
   "id": "2f06c4cf-1690-4c8b-99a2-6ad7a7c8a022",
   "metadata": {},
   "outputs": [
    {
     "data": {
      "text/plain": [
       "array(['', 'Charged Off', 'Current', 'Default', 'Fully Paid', 'In Grace Period', 'Issued',\n",
       "       'Late (16-30 days)', 'Late (31-120 days)'], dtype='<U69')"
      ]
     },
     "execution_count": 30,
     "metadata": {},
     "output_type": "execute_result"
    }
   ],
   "source": [
    "np.unique(loaded_loan_strings[:,1])"
   ]
  },
  {
   "cell_type": "code",
   "execution_count": 31,
   "id": "00d1377f-a7d4-487c-96c1-00bafd11ca70",
   "metadata": {},
   "outputs": [
    {
     "data": {
      "text/plain": [
       "9"
      ]
     },
     "execution_count": 31,
     "metadata": {},
     "output_type": "execute_result"
    }
   ],
   "source": [
    "np.unique(loaded_loan_strings[:,1]).size\n",
    "# grouping strings into two groups: good and bac\n",
    "# 1 for good and 0 for bad "
   ]
  },
  {
   "cell_type": "code",
   "execution_count": 32,
   "id": "a5ddb853-5e6f-4e6e-b7a3-32a71e47ccfb",
   "metadata": {},
   "outputs": [],
   "source": [
    "status_bad = np.array(['Charged Off','Default','Late (31-120 days)'])"
   ]
  },
  {
   "cell_type": "code",
   "execution_count": 33,
   "id": "dcb4b1ab-1dbd-42de-99b7-356dd6a477bf",
   "metadata": {},
   "outputs": [],
   "source": [
    "loaded_loan_strings[:,1] = np.where(np.isin(loaded_loan_strings[:,1], status_bad), 0, 1)"
   ]
  },
  {
   "cell_type": "code",
   "execution_count": 34,
   "id": "ae4633cb-35b9-488b-b470-28c53d6da361",
   "metadata": {},
   "outputs": [
    {
     "data": {
      "text/plain": [
       "array(['0', '1'], dtype='<U69')"
      ]
     },
     "execution_count": 34,
     "metadata": {},
     "output_type": "execute_result"
    }
   ],
   "source": [
    "np.unique(loaded_loan_strings[:,1])"
   ]
  },
  {
   "cell_type": "markdown",
   "id": "6156e077-274f-4401-a65f-eb6053f9b05c",
   "metadata": {
    "jp-MarkdownHeadingCollapsed": true
   },
   "source": [
    "### Term"
   ]
  },
  {
   "cell_type": "code",
   "execution_count": 35,
   "id": "8b724ab0-5936-4468-b7a5-431857374b98",
   "metadata": {},
   "outputs": [
    {
     "data": {
      "text/plain": [
       "array(['issue_date', 'loan_status', 'term', 'grade', 'sub_grade', 'verification_status', 'url',\n",
       "       'addr_state'], dtype='<U19')"
      ]
     },
     "execution_count": 35,
     "metadata": {},
     "output_type": "execute_result"
    }
   ],
   "source": [
    "header_strings"
   ]
  },
  {
   "cell_type": "code",
   "execution_count": 36,
   "id": "03e55e7b-c51a-4118-9390-d14ccda08c7e",
   "metadata": {},
   "outputs": [
    {
     "name": "stdout",
     "output_type": "stream",
     "text": [
      "['36 months' '36 months' '36 months' ... '36 months' '36 months' '36 months']\n",
      "['' '36 months' '60 months']\n"
     ]
    }
   ],
   "source": [
    "print(loaded_loan_strings[:,2])\n",
    "print(np.unique(loaded_loan_strings[:,2]))"
   ]
  },
  {
   "cell_type": "code",
   "execution_count": 37,
   "id": "8c70b5eb-0d69-4ff3-9ea1-65a0e6b13737",
   "metadata": {},
   "outputs": [
    {
     "name": "stdout",
     "output_type": "stream",
     "text": [
      "['' '36' '60']\n"
     ]
    },
    {
     "name": "stderr",
     "output_type": "stream",
     "text": [
      "/var/folders/xz/qxr61_851tb6_f56ygv7nw980000gn/T/ipykernel_22889/3980987904.py:1: DeprecationWarning: `np.chararray` is deprecated and will be removed from the main namespace in the future. Use an array with a string or bytes dtype instead.\n",
      "  loaded_loan_strings[:,2] = np.chararray.strip(loaded_loan_strings[:,2], \" months\")\n"
     ]
    },
    {
     "data": {
      "text/plain": [
       "array(['issue_date', 'loan_status', 'term', 'grade', 'sub_grade', 'verification_status', 'url',\n",
       "       'addr_state'], dtype='<U19')"
      ]
     },
     "execution_count": 37,
     "metadata": {},
     "output_type": "execute_result"
    }
   ],
   "source": [
    "loaded_loan_strings[:,2] = np.chararray.strip(loaded_loan_strings[:,2], \" months\")\n",
    "loaded_loan_strings[:,2]\n",
    "print(np.unique(loaded_loan_strings[:,2]))\n",
    "header_strings"
   ]
  },
  {
   "cell_type": "code",
   "execution_count": 38,
   "id": "cd383a38-4812-4573-be61-367c080c501f",
   "metadata": {},
   "outputs": [],
   "source": [
    "header_strings[2] = \"term_months\""
   ]
  },
  {
   "cell_type": "code",
   "execution_count": 39,
   "id": "ee68dc09-74b9-4889-bd7b-02265c225575",
   "metadata": {},
   "outputs": [],
   "source": [
    "loaded_loan_strings[:,2] = np.where(loaded_loan_strings[:,2] == '', \n",
    "                                   '60', \n",
    "                                   loaded_loan_strings[:,2])"
   ]
  },
  {
   "cell_type": "code",
   "execution_count": 40,
   "id": "7b15f772-3a12-4d92-ba8b-6342fcfead25",
   "metadata": {},
   "outputs": [
    {
     "name": "stdout",
     "output_type": "stream",
     "text": [
      "['36' '60']\n"
     ]
    }
   ],
   "source": [
    "print(np.unique(loaded_loan_strings[:,2]))\n"
   ]
  },
  {
   "cell_type": "markdown",
   "id": "694e6a69-6805-47a3-bf9c-cded3d1c0696",
   "metadata": {
    "jp-MarkdownHeadingCollapsed": true
   },
   "source": [
    "### Grade and Subgrade"
   ]
  },
  {
   "cell_type": "code",
   "execution_count": 41,
   "id": "a62d08dc-4c66-4f2e-89ce-6ffd3a2b7c3c",
   "metadata": {},
   "outputs": [
    {
     "data": {
      "text/plain": [
       "array(['', 'A', 'B', 'C', 'D', 'E', 'F', 'G'], dtype='<U69')"
      ]
     },
     "execution_count": 41,
     "metadata": {},
     "output_type": "execute_result"
    }
   ],
   "source": [
    "np.unique(loaded_loan_strings[:,3])"
   ]
  },
  {
   "cell_type": "code",
   "execution_count": 42,
   "id": "cf5662cd-13b0-4099-a901-7d6d14cb3850",
   "metadata": {},
   "outputs": [
    {
     "data": {
      "text/plain": [
       "array(['', 'A1', 'A2', 'A3', 'A4', 'A5', 'B1', 'B2', 'B3', 'B4', 'B5', 'C1', 'C2', 'C3', 'C4',\n",
       "       'C5', 'D1', 'D2', 'D3', 'D4', 'D5', 'E1', 'E2', 'E3', 'E4', 'E5', 'F1', 'F2', 'F3', 'F4',\n",
       "       'F5', 'G1', 'G2', 'G3', 'G4', 'G5'], dtype='<U69')"
      ]
     },
     "execution_count": 42,
     "metadata": {},
     "output_type": "execute_result"
    }
   ],
   "source": [
    "np.unique(loaded_loan_strings[:,4])"
   ]
  },
  {
   "cell_type": "markdown",
   "id": "543773f6-ad12-4b0e-8137-0784cdbd4ede",
   "metadata": {
    "jp-MarkdownHeadingCollapsed": true
   },
   "source": [
    "### Filling Sub Grade"
   ]
  },
  {
   "cell_type": "code",
   "execution_count": 43,
   "id": "7ccfe468-8765-4450-b739-6d53d81e3a4c",
   "metadata": {},
   "outputs": [],
   "source": [
    "for i in np.unique(loaded_loan_strings[:,3])[1:]:\n",
    "    loaded_loan_strings[:,4] = np.where((loaded_loan_strings[:,4] == '') & (loaded_loan_strings[:,3] ==i),\n",
    "    i+'5', \n",
    "    loaded_loan_strings[:,4])"
   ]
  },
  {
   "cell_type": "code",
   "execution_count": 44,
   "id": "86ca983d-48b9-47b4-9cf0-a3f2c1c74e91",
   "metadata": {},
   "outputs": [
    {
     "data": {
      "text/plain": [
       "array(['', 'A1', 'A2', 'A3', 'A4', 'A5', 'B1', 'B2', 'B3', 'B4', 'B5', 'C1', 'C2', 'C3', 'C4',\n",
       "       'C5', 'D1', 'D2', 'D3', 'D4', 'D5', 'E1', 'E2', 'E3', 'E4', 'E5', 'F1', 'F2', 'F3', 'F4',\n",
       "       'F5', 'G1', 'G2', 'G3', 'G4', 'G5'], dtype='<U69')"
      ]
     },
     "execution_count": 44,
     "metadata": {},
     "output_type": "execute_result"
    }
   ],
   "source": [
    "np.unique(loaded_loan_strings[:,4])"
   ]
  },
  {
   "cell_type": "code",
   "execution_count": 45,
   "id": "f529d185-71d3-4e04-b1ea-10fc417b3cde",
   "metadata": {},
   "outputs": [],
   "source": [
    "for i in np.unique(loaded_loan_strings[:,3])[1:]:\n",
    "    loaded_loan_strings[:,4] = np.where((loaded_loan_strings[:,4] == '') ,\n",
    "    'H1', \n",
    "    loaded_loan_strings[:,4])"
   ]
  },
  {
   "cell_type": "code",
   "execution_count": 46,
   "id": "9eac30a3-fa3d-488a-ba59-edcee20f9abf",
   "metadata": {},
   "outputs": [
    {
     "name": "stdout",
     "output_type": "stream",
     "text": [
      "['issue_date' 'loan_status' 'term_months' 'grade' 'sub_grade' 'verification_status' 'url'\n",
      " 'addr_state']\n"
     ]
    }
   ],
   "source": [
    "np.unique(loaded_loan_strings[:,4])\n",
    "print(header_strings)"
   ]
  },
  {
   "cell_type": "markdown",
   "id": "02ea0e28-848a-453c-ae61-9b920f407351",
   "metadata": {
    "jp-MarkdownHeadingCollapsed": true
   },
   "source": [
    "### Removing Grades"
   ]
  },
  {
   "cell_type": "code",
   "execution_count": 47,
   "id": "4ca5553f-6cbb-407f-b330-52a94cf439cc",
   "metadata": {},
   "outputs": [],
   "source": [
    "loaded_loan_strings = np.delete(loaded_loan_strings,3, axis = 1)"
   ]
  },
  {
   "cell_type": "code",
   "execution_count": 48,
   "id": "02dafcfe-8484-47ba-82c6-4815a6283d85",
   "metadata": {},
   "outputs": [
    {
     "data": {
      "text/plain": [
       "array(['C3', 'A5', 'B5', ..., 'A5', 'D2', 'A4'], shape=(10000,), dtype='<U69')"
      ]
     },
     "execution_count": 48,
     "metadata": {},
     "output_type": "execute_result"
    }
   ],
   "source": [
    "loaded_loan_strings[:,3]"
   ]
  },
  {
   "cell_type": "code",
   "execution_count": 49,
   "id": "d84efd8d-a504-4c2c-88ab-fc4d471528c7",
   "metadata": {},
   "outputs": [],
   "source": [
    "header_strings = np.delete(header_strings, 3)"
   ]
  },
  {
   "cell_type": "code",
   "execution_count": 50,
   "id": "023b21da-760c-4796-9e4a-2fb622b64e8b",
   "metadata": {},
   "outputs": [
    {
     "data": {
      "text/plain": [
       "np.str_('sub_grade')"
      ]
     },
     "execution_count": 50,
     "metadata": {},
     "output_type": "execute_result"
    }
   ],
   "source": [
    "header_strings[3]"
   ]
  },
  {
   "cell_type": "markdown",
   "id": "052d0c30-60d4-4bc5-b5e4-52071adc6e87",
   "metadata": {
    "jp-MarkdownHeadingCollapsed": true
   },
   "source": [
    "### Converting Sub Grade"
   ]
  },
  {
   "cell_type": "code",
   "execution_count": 51,
   "id": "d36c3252-896e-406c-aabb-3fdc66f6d649",
   "metadata": {},
   "outputs": [
    {
     "data": {
      "text/plain": [
       "array(['A1', 'A2', 'A3', 'A4', 'A5', 'B1', 'B2', 'B3', 'B4', 'B5', 'C1', 'C2', 'C3', 'C4', 'C5',\n",
       "       'D1', 'D2', 'D3', 'D4', 'D5', 'E1', 'E2', 'E3', 'E4', 'E5', 'F1', 'F2', 'F3', 'F4', 'F5',\n",
       "       'G1', 'G2', 'G3', 'G4', 'G5', 'H1'], dtype='<U69')"
      ]
     },
     "execution_count": 51,
     "metadata": {},
     "output_type": "execute_result"
    }
   ],
   "source": [
    "np.unique(loaded_loan_strings[:,3])"
   ]
  },
  {
   "cell_type": "code",
   "execution_count": 52,
   "id": "3f1d27c3-f4cc-435f-8a6e-20a3469e8fb9",
   "metadata": {},
   "outputs": [],
   "source": [
    "keys = list(np.unique(loaded_loan_strings[:,3]).tolist())                \n",
    "values = list(range(1, np.unique(loaded_loan_strings[:,3]).shape[0] + 1)) \n",
    "dict_sub_grade = dict(zip(keys, values))"
   ]
  },
  {
   "cell_type": "code",
   "execution_count": 53,
   "id": "e53ee4ef-76ff-4749-8854-5acf71aeca6a",
   "metadata": {},
   "outputs": [
    {
     "data": {
      "text/plain": [
       "{'A1': 1,\n",
       " 'A2': 2,\n",
       " 'A3': 3,\n",
       " 'A4': 4,\n",
       " 'A5': 5,\n",
       " 'B1': 6,\n",
       " 'B2': 7,\n",
       " 'B3': 8,\n",
       " 'B4': 9,\n",
       " 'B5': 10,\n",
       " 'C1': 11,\n",
       " 'C2': 12,\n",
       " 'C3': 13,\n",
       " 'C4': 14,\n",
       " 'C5': 15,\n",
       " 'D1': 16,\n",
       " 'D2': 17,\n",
       " 'D3': 18,\n",
       " 'D4': 19,\n",
       " 'D5': 20,\n",
       " 'E1': 21,\n",
       " 'E2': 22,\n",
       " 'E3': 23,\n",
       " 'E4': 24,\n",
       " 'E5': 25,\n",
       " 'F1': 26,\n",
       " 'F2': 27,\n",
       " 'F3': 28,\n",
       " 'F4': 29,\n",
       " 'F5': 30,\n",
       " 'G1': 31,\n",
       " 'G2': 32,\n",
       " 'G3': 33,\n",
       " 'G4': 34,\n",
       " 'G5': 35,\n",
       " 'H1': 36}"
      ]
     },
     "execution_count": 53,
     "metadata": {},
     "output_type": "execute_result"
    }
   ],
   "source": [
    "dict_sub_grade"
   ]
  },
  {
   "cell_type": "code",
   "execution_count": 54,
   "id": "6d3a7fdb-ec3f-4c80-b2aa-a0f796c267da",
   "metadata": {},
   "outputs": [],
   "source": [
    "loaded_loan_strings[:, 3] = np.vectorize(dict_sub_grade.get)(loaded_loan_strings[:, 3])"
   ]
  },
  {
   "cell_type": "code",
   "execution_count": 55,
   "id": "5742eced-3a2b-4835-96c4-94d13a8bf32a",
   "metadata": {},
   "outputs": [
    {
     "data": {
      "text/plain": [
       "array(['1', '10', '11', '12', '13', '14', '15', '16', '17', '18', '19', '2', '20', '21', '22',\n",
       "       '23', '24', '25', '26', '27', '28', '29', '3', '30', '31', '32', '33', '34', '35', '36',\n",
       "       '4', '5', '6', '7', '8', '9'], dtype='<U69')"
      ]
     },
     "execution_count": 55,
     "metadata": {},
     "output_type": "execute_result"
    }
   ],
   "source": [
    "np.unique(loaded_loan_strings[:,3])"
   ]
  },
  {
   "cell_type": "code",
   "execution_count": 56,
   "id": "89a1a325-fca6-439a-b94f-483f5ff85086",
   "metadata": {},
   "outputs": [
    {
     "data": {
      "text/plain": [
       "array(['issue_date', 'loan_status', 'term_months', 'sub_grade', 'verification_status', 'url',\n",
       "       'addr_state'], dtype='<U19')"
      ]
     },
     "execution_count": 56,
     "metadata": {},
     "output_type": "execute_result"
    }
   ],
   "source": [
    "header_strings"
   ]
  },
  {
   "cell_type": "markdown",
   "id": "b12f30cb-d8cf-422e-b1b9-349e3cb60ed7",
   "metadata": {
    "jp-MarkdownHeadingCollapsed": true
   },
   "source": [
    "### Verification Status"
   ]
  },
  {
   "cell_type": "code",
   "execution_count": 57,
   "id": "a85f830f-bb17-45ce-b43c-01cb3e27703c",
   "metadata": {},
   "outputs": [
    {
     "data": {
      "text/plain": [
       "array(['', 'Not Verified', 'Source Verified', 'Verified'], dtype='<U69')"
      ]
     },
     "execution_count": 57,
     "metadata": {},
     "output_type": "execute_result"
    }
   ],
   "source": [
    "np.unique(loaded_loan_strings[:,4])"
   ]
  },
  {
   "cell_type": "code",
   "execution_count": 58,
   "id": "3d185e01-66dd-4498-abcd-b6a58ff09395",
   "metadata": {},
   "outputs": [],
   "source": [
    "loaded_loan_strings[:,4] = np.where((loaded_loan_strings[:,4] == '')|(loaded_loan_strings[:,4] == 'Not Verified'),0,1)"
   ]
  },
  {
   "cell_type": "code",
   "execution_count": 59,
   "id": "da1dc929-a186-4e8c-a28b-98507c289604",
   "metadata": {},
   "outputs": [
    {
     "data": {
      "text/plain": [
       "array(['1', '1', '1', ..., '1', '1', '0'], shape=(10000,), dtype='<U69')"
      ]
     },
     "execution_count": 59,
     "metadata": {},
     "output_type": "execute_result"
    }
   ],
   "source": [
    "loaded_loan_strings[:,4]"
   ]
  },
  {
   "cell_type": "code",
   "execution_count": 60,
   "id": "bf7be072-3b5d-43f2-bcbe-46869c7835ab",
   "metadata": {},
   "outputs": [
    {
     "data": {
      "text/plain": [
       "array(['0', '1'], dtype='<U69')"
      ]
     },
     "execution_count": 60,
     "metadata": {},
     "output_type": "execute_result"
    }
   ],
   "source": [
    "np.unique(loaded_loan_strings[:,4])"
   ]
  },
  {
   "cell_type": "markdown",
   "id": "9fa833a4-1287-491f-afad-8aca4fb52367",
   "metadata": {
    "jp-MarkdownHeadingCollapsed": true
   },
   "source": [
    "### URL"
   ]
  },
  {
   "cell_type": "code",
   "execution_count": 61,
   "id": "2a29095c-42f6-4ae7-8e22-34df22ec6fcd",
   "metadata": {},
   "outputs": [
    {
     "data": {
      "text/plain": [
       "array(['https://www.lendingclub.com/browse/loanDetail.action?loan_id=12606806',\n",
       "       'https://www.lendingclub.com/browse/loanDetail.action?loan_id=13026045',\n",
       "       'https://www.lendingclub.com/browse/loanDetail.action?loan_id=1312426', ...,\n",
       "       'https://www.lendingclub.com/browse/loanDetail.action?loan_id=8138291',\n",
       "       'https://www.lendingclub.com/browse/loanDetail.action?loan_id=8214572',\n",
       "       'https://www.lendingclub.com/browse/loanDetail.action?loan_id=849994'],\n",
       "      shape=(10000,), dtype='<U69')"
      ]
     },
     "execution_count": 61,
     "metadata": {},
     "output_type": "execute_result"
    }
   ],
   "source": [
    "np.unique(loaded_loan_strings[:,5])"
   ]
  },
  {
   "cell_type": "code",
   "execution_count": 62,
   "id": "5fad3ec8-f1ac-4d81-a4e3-e363575bfa48",
   "metadata": {},
   "outputs": [
    {
     "name": "stderr",
     "output_type": "stream",
     "text": [
      "/var/folders/xz/qxr61_851tb6_f56ygv7nw980000gn/T/ipykernel_22889/1578011530.py:1: DeprecationWarning: `np.chararray` is deprecated and will be removed from the main namespace in the future. Use an array with a string or bytes dtype instead.\n",
      "  loaded_loan_strings[:,5] = np.chararray.strip(loaded_loan_strings[:,5], 'https://www.lendingclub.com/browse/loanDetail.action?loan_id=')\n"
     ]
    }
   ],
   "source": [
    "loaded_loan_strings[:,5] = np.chararray.strip(loaded_loan_strings[:,5], 'https://www.lendingclub.com/browse/loanDetail.action?loan_id=')\n",
    "# here the whole lines are equal but ['=......']"
   ]
  },
  {
   "cell_type": "code",
   "execution_count": 63,
   "id": "c6629159-6352-4a39-97bc-c08705713c03",
   "metadata": {},
   "outputs": [
    {
     "data": {
      "text/plain": [
       "array(['12606806', '13026045', '1312426', ..., '8138291', '8214572', '849994'],\n",
       "      shape=(10000,), dtype='<U69')"
      ]
     },
     "execution_count": 63,
     "metadata": {},
     "output_type": "execute_result"
    }
   ],
   "source": [
    "np.unique(loaded_loan_strings[:,5])"
   ]
  },
  {
   "cell_type": "code",
   "execution_count": 64,
   "id": "4096a217-8233-4ae2-b58a-198a7ec07da9",
   "metadata": {},
   "outputs": [
    {
     "data": {
      "text/plain": [
       "array([48010226, 57693261, 59432726, ..., 50415990, 46154151, 66055249], shape=(10000,))"
      ]
     },
     "execution_count": 64,
     "metadata": {},
     "output_type": "execute_result"
    }
   ],
   "source": [
    "loaded_loan_numeric[:,0].astype(dtype=int)"
   ]
  },
  {
   "cell_type": "code",
   "execution_count": 65,
   "id": "564327a8-db86-4aa5-919b-7e66da390470",
   "metadata": {},
   "outputs": [
    {
     "data": {
      "text/plain": [
       "array([48010226, 57693261, 59432726, ..., 50415990, 46154151, 66055249], shape=(10000,))"
      ]
     },
     "execution_count": 65,
     "metadata": {},
     "output_type": "execute_result"
    }
   ],
   "source": [
    "loaded_loan_strings[:,5].astype(dtype=int)"
   ]
  },
  {
   "cell_type": "code",
   "execution_count": 66,
   "id": "5681205b-a03d-45f6-85c5-186a86f78a60",
   "metadata": {},
   "outputs": [
    {
     "data": {
      "text/plain": [
       "True"
      ]
     },
     "execution_count": 66,
     "metadata": {},
     "output_type": "execute_result"
    }
   ],
   "source": [
    "np.array_equal(loaded_loan_strings[:,5].astype(dtype=int), loaded_loan_numeric[:,0].astype(dtype=int))"
   ]
  },
  {
   "cell_type": "code",
   "execution_count": 67,
   "id": "e26f6627-ec1a-496b-99e3-7995d00d8398",
   "metadata": {},
   "outputs": [],
   "source": [
    "loaded_loan_strings = np.delete(loaded_loan_strings, 5, axis = 1)\n",
    "header_strings = np.delete(header_strings, 5)"
   ]
  },
  {
   "cell_type": "code",
   "execution_count": 68,
   "id": "d2bacb51-7ed0-4307-b646-296b26f5fae5",
   "metadata": {},
   "outputs": [
    {
     "data": {
      "text/plain": [
       "array(['issue_date', 'loan_status', 'term_months', 'sub_grade', 'verification_status',\n",
       "       'addr_state'], dtype='<U19')"
      ]
     },
     "execution_count": 68,
     "metadata": {},
     "output_type": "execute_result"
    }
   ],
   "source": [
    "loaded_loan_strings[:,5]\n",
    "header_strings"
   ]
  },
  {
   "cell_type": "code",
   "execution_count": 69,
   "id": "1091bda6-7ef2-4287-b343-aeaf445b8d74",
   "metadata": {},
   "outputs": [
    {
     "data": {
      "text/plain": [
       "array(['id', 'loan_amnt', 'funded_amnt', 'int_rate', 'installment', 'total_pymnt'], dtype='<U19')"
      ]
     },
     "execution_count": 69,
     "metadata": {},
     "output_type": "execute_result"
    }
   ],
   "source": [
    "header_numeric"
   ]
  },
  {
   "cell_type": "markdown",
   "id": "5379b28b-36fc-4d6f-8f14-8994f4f6049f",
   "metadata": {
    "jp-MarkdownHeadingCollapsed": true
   },
   "source": [
    "### State Address"
   ]
  },
  {
   "cell_type": "code",
   "execution_count": 70,
   "id": "75b7076c-446a-4661-8808-0e9c00fac18f",
   "metadata": {},
   "outputs": [
    {
     "data": {
      "text/plain": [
       "array(['issue_date', 'loan_status', 'term_months', 'sub_grade', 'verification_status',\n",
       "       'addr_state'], dtype='<U19')"
      ]
     },
     "execution_count": 70,
     "metadata": {},
     "output_type": "execute_result"
    }
   ],
   "source": [
    "header_strings"
   ]
  },
  {
   "cell_type": "code",
   "execution_count": 71,
   "id": "12f97a6e-7349-453f-8d07-b1361299dd96",
   "metadata": {},
   "outputs": [],
   "source": [
    "header_strings[5] = 'state_address'"
   ]
  },
  {
   "cell_type": "code",
   "execution_count": 72,
   "id": "ec1e6edd-1e19-45b4-bc7c-42f79ae7d83e",
   "metadata": {},
   "outputs": [
    {
     "data": {
      "text/plain": [
       "array(['issue_date', 'loan_status', 'term_months', 'sub_grade', 'verification_status',\n",
       "       'state_address'], dtype='<U19')"
      ]
     },
     "execution_count": 72,
     "metadata": {},
     "output_type": "execute_result"
    }
   ],
   "source": [
    "header_strings"
   ]
  },
  {
   "cell_type": "code",
   "execution_count": 73,
   "id": "648d2855-34ad-4cdb-a978-bb4dd1e28204",
   "metadata": {},
   "outputs": [
    {
     "data": {
      "text/plain": [
       "array(['', 'AK', 'AL', 'AR', 'AZ', 'CA', 'CO', 'CT', 'DC', 'DE', 'FL', 'GA', 'HI', 'IL', 'IN',\n",
       "       'KS', 'KY', 'LA', 'MA', 'MD', 'ME', 'MI', 'MN', 'MO', 'MS', 'MT', 'NC', 'ND', 'NE', 'NH',\n",
       "       'NJ', 'NM', 'NV', 'NY', 'OH', 'OK', 'OR', 'PA', 'RI', 'SC', 'SD', 'TN', 'TX', 'UT', 'VA',\n",
       "       'VT', 'WA', 'WI', 'WV', 'WY'], dtype='<U69')"
      ]
     },
     "execution_count": 73,
     "metadata": {},
     "output_type": "execute_result"
    }
   ],
   "source": [
    "np.unique(loaded_loan_strings[:,5])"
   ]
  },
  {
   "cell_type": "code",
   "execution_count": 74,
   "id": "41facf34-e2ed-49f7-ba42-e047ff60ac1a",
   "metadata": {},
   "outputs": [
    {
     "data": {
      "text/plain": [
       "(array(['CA', 'NY', 'TX', 'FL', '', 'IL', 'NJ', 'GA', 'PA', 'OH', 'MI', 'NC', 'VA', 'MD', 'AZ',\n",
       "        'WA', 'MA', 'CO', 'MO', 'MN', 'IN', 'WI', 'CT', 'TN', 'NV', 'AL', 'LA', 'OR', 'SC', 'KY',\n",
       "        'KS', 'OK', 'UT', 'AR', 'MS', 'NH', 'NM', 'WV', 'HI', 'RI', 'MT', 'DE', 'DC', 'WY', 'AK',\n",
       "        'NE', 'SD', 'VT', 'ND', 'ME'], dtype='<U69'),\n",
       " array([1336,  777,  758,  690,  500,  389,  341,  321,  320,  312,  267,  261,  242,  222,  220,\n",
       "         216,  210,  201,  160,  156,  152,  148,  143,  143,  130,  119,  116,  108,  107,   84,\n",
       "          84,   83,   74,   74,   61,   58,   57,   49,   44,   40,   28,   27,   27,   27,   26,\n",
       "          25,   24,   17,   16,   10]))"
      ]
     },
     "execution_count": 74,
     "metadata": {},
     "output_type": "execute_result"
    }
   ],
   "source": [
    "states_names, states_count = np.unique(loaded_loan_strings[:,5], return_counts = True)\n",
    "##print(states_names)\n",
    "##print(states_count)\n",
    "state_count_sorted = np.argsort(-states_count)\n",
    "states_names[state_count_sorted], states_count[state_count_sorted]"
   ]
  },
  {
   "cell_type": "code",
   "execution_count": 75,
   "id": "5000133e-c715-4580-b0d6-3fbcae28f6f1",
   "metadata": {},
   "outputs": [],
   "source": [
    "loaded_loan_strings[:,5] = np.where(loaded_loan_strings[:,5] == '', \n",
    "                                  str(0), \n",
    "                                  loaded_loan_strings[:,5])"
   ]
  },
  {
   "cell_type": "code",
   "execution_count": 76,
   "id": "eccf489f-4990-4c95-9d65-4873c76663f0",
   "metadata": {},
   "outputs": [
    {
     "data": {
      "text/plain": [
       "array(['0', 'AK', 'AL', 'AR', 'AZ', 'CA', 'CO', 'CT', 'DC', 'DE', 'FL', 'GA', 'HI', 'IL', 'IN',\n",
       "       'KS', 'KY', 'LA', 'MA', 'MD', 'ME', 'MI', 'MN', 'MO', 'MS', 'MT', 'NC', 'ND', 'NE', 'NH',\n",
       "       'NJ', 'NM', 'NV', 'NY', 'OH', 'OK', 'OR', 'PA', 'RI', 'SC', 'SD', 'TN', 'TX', 'UT', 'VA',\n",
       "       'VT', 'WA', 'WI', 'WV', 'WY'], dtype='<U69')"
      ]
     },
     "execution_count": 76,
     "metadata": {},
     "output_type": "execute_result"
    }
   ],
   "source": [
    "np.unique(loaded_loan_strings[:,5])"
   ]
  },
  {
   "cell_type": "code",
   "execution_count": 77,
   "id": "c418a32f-237c-42eb-9eb2-e47088d0c618",
   "metadata": {},
   "outputs": [],
   "source": [
    "states_west = np.array(['WA', 'OR','CA','NV','ID','MT', 'WY','UT','CO', 'AZ','NM','HI','AK'])\n",
    "states_south = np.array(['TX','OK','AR','LA','MS','AL','TN','KY','FL','GA','SC','NC','VA','WV','MD','DE','DC'])\n",
    "states_midwest = np.array(['ND','SD','NE','KS','MN','IA','MO','WI','IL','IN','MI','OH'])\n",
    "states_east = np.array(['PA','NY','NJ','CT','MA','VT','NH','ME','RI'])"
   ]
  },
  {
   "cell_type": "code",
   "execution_count": 78,
   "id": "ed7954ee-0fed-4ade-b04e-cfc251e8ce7e",
   "metadata": {},
   "outputs": [],
   "source": [
    "loaded_loan_strings[:,5] = np.where(np.isin(loaded_loan_strings[:,5], states_west), str(1), loaded_loan_strings[:,5])\n",
    "loaded_loan_strings[:,5] = np.where(np.isin(loaded_loan_strings[:,5], states_south), str(2), loaded_loan_strings[:,5])\n",
    "loaded_loan_strings[:,5] = np.where(np.isin(loaded_loan_strings[:,5], states_midwest), str(3), loaded_loan_strings[:,5])\n",
    "loaded_loan_strings[:,5] = np.where(np.isin(loaded_loan_strings[:,5], states_east), str(4), loaded_loan_strings[:,5])"
   ]
  },
  {
   "cell_type": "code",
   "execution_count": 79,
   "id": "fb513474-e336-4b1f-9683-b6170545780a",
   "metadata": {},
   "outputs": [
    {
     "data": {
      "text/plain": [
       "array(['0', '1', '2', '3', '4'], dtype='<U69')"
      ]
     },
     "execution_count": 79,
     "metadata": {},
     "output_type": "execute_result"
    }
   ],
   "source": [
    "np.unique(loaded_loan_strings[:,5])"
   ]
  },
  {
   "cell_type": "markdown",
   "id": "387b76f1-34ed-4d1f-a8d6-f291771c467f",
   "metadata": {
    "jp-MarkdownHeadingCollapsed": true
   },
   "source": [
    "### Converting to Numbers"
   ]
  },
  {
   "cell_type": "code",
   "execution_count": 80,
   "id": "fb8a5acf-c26a-4e9f-933f-46d8c043af94",
   "metadata": {},
   "outputs": [
    {
     "data": {
      "text/plain": [
       "array([['5', '1', '36', '13', '1', '1'],\n",
       "       ['0', '1', '36', '5', '1', '4'],\n",
       "       ['9', '1', '36', '10', '1', '4'],\n",
       "       ...,\n",
       "       ['6', '1', '36', '5', '1', '1'],\n",
       "       ['4', '1', '36', '17', '1', '3'],\n",
       "       ['12', '1', '36', '4', '0', '3']], shape=(10000, 6), dtype='<U69')"
      ]
     },
     "execution_count": 80,
     "metadata": {},
     "output_type": "execute_result"
    }
   ],
   "source": [
    "loaded_loan_strings"
   ]
  },
  {
   "cell_type": "code",
   "execution_count": 81,
   "id": "831d064a-2f42-4368-8c2e-d5a8d0cce214",
   "metadata": {},
   "outputs": [],
   "source": [
    "loaded_loan_strings = loaded_loan_strings.astype(int)"
   ]
  },
  {
   "cell_type": "code",
   "execution_count": 82,
   "id": "1fcbe103-594e-4b9d-ae85-3ae3a75e8eb2",
   "metadata": {},
   "outputs": [
    {
     "data": {
      "text/plain": [
       "array([[ 5,  1, 36, 13,  1,  1],\n",
       "       [ 0,  1, 36,  5,  1,  4],\n",
       "       [ 9,  1, 36, 10,  1,  4],\n",
       "       ...,\n",
       "       [ 6,  1, 36,  5,  1,  1],\n",
       "       [ 4,  1, 36, 17,  1,  3],\n",
       "       [12,  1, 36,  4,  0,  3]], shape=(10000, 6))"
      ]
     },
     "execution_count": 82,
     "metadata": {},
     "output_type": "execute_result"
    }
   ],
   "source": [
    "loaded_loan_strings"
   ]
  },
  {
   "cell_type": "markdown",
   "id": "4ad22b28-cac1-4a02-8934-f6cf1eb80aef",
   "metadata": {
    "jp-MarkdownHeadingCollapsed": true
   },
   "source": [
    "### Checkpoint 1: Strings"
   ]
  },
  {
   "cell_type": "code",
   "execution_count": 83,
   "id": "eb13659d-de26-41e5-b7f4-4bbcdda5342b",
   "metadata": {},
   "outputs": [],
   "source": [
    "checkpoint_strings = checkpoint(\"Checkpoint-(int)Strings\", header_strings, loaded_loan_strings)"
   ]
  },
  {
   "cell_type": "code",
   "execution_count": 84,
   "id": "07ac022a-cbe6-4df3-92b8-be05669e0183",
   "metadata": {},
   "outputs": [
    {
     "data": {
      "text/plain": [
       "array(['issue_date', 'loan_status', 'term_months', 'sub_grade', 'verification_status',\n",
       "       'state_address'], dtype='<U19')"
      ]
     },
     "execution_count": 84,
     "metadata": {},
     "output_type": "execute_result"
    }
   ],
   "source": [
    "checkpoint_strings['header']"
   ]
  },
  {
   "cell_type": "code",
   "execution_count": 85,
   "id": "bd9837da-907c-4d7d-9ada-013047035f25",
   "metadata": {},
   "outputs": [
    {
     "data": {
      "text/plain": [
       "array([[ 5,  1, 36, 13,  1,  1],\n",
       "       [ 0,  1, 36,  5,  1,  4],\n",
       "       [ 9,  1, 36, 10,  1,  4],\n",
       "       ...,\n",
       "       [ 6,  1, 36,  5,  1,  1],\n",
       "       [ 4,  1, 36, 17,  1,  3],\n",
       "       [12,  1, 36,  4,  0,  3]], shape=(10000, 6))"
      ]
     },
     "execution_count": 85,
     "metadata": {},
     "output_type": "execute_result"
    }
   ],
   "source": [
    "checkpoint_strings['data']"
   ]
  },
  {
   "cell_type": "markdown",
   "id": "6b55339a-2c15-4dc9-b489-0514b1a968be",
   "metadata": {
    "jp-MarkdownHeadingCollapsed": true
   },
   "source": [
    "### Manipulating Numeric Columns"
   ]
  },
  {
   "cell_type": "code",
   "execution_count": 86,
   "id": "c021bfc8-c41a-427e-b8ba-54b4108b831b",
   "metadata": {},
   "outputs": [
    {
     "data": {
      "text/plain": [
       "array([[48010226.  ,    35000.  ,    35000.  ,       13.33,     1184.86,     9452.96],\n",
       "       [57693261.  ,    30000.  ,    30000.  , 68616520.  ,      938.57,     4679.7 ],\n",
       "       [59432726.  ,    15000.  ,    15000.  , 68616520.  ,      494.86,     1969.83],\n",
       "       ...,\n",
       "       [50415990.  ,    10000.  ,    10000.  , 68616520.  , 68616520.  ,     2185.64],\n",
       "       [46154151.  , 68616520.  ,    10000.  ,       16.55,      354.3 ,     3199.4 ],\n",
       "       [66055249.  ,    10000.  ,    10000.  , 68616520.  ,      309.97,      301.9 ]],\n",
       "      shape=(10000, 6))"
      ]
     },
     "execution_count": 86,
     "metadata": {},
     "output_type": "execute_result"
    }
   ],
   "source": [
    "loaded_loan_numeric"
   ]
  },
  {
   "cell_type": "code",
   "execution_count": 87,
   "id": "40187eed-f097-48ca-a53e-d91957adaa3f",
   "metadata": {},
   "outputs": [
    {
     "name": "stdout",
     "output_type": "stream",
     "text": [
      "0\n"
     ]
    }
   ],
   "source": [
    "print(np.isnan(loaded_loan_numeric).sum())"
   ]
  },
  {
   "cell_type": "markdown",
   "id": "eca0774b-9bac-40ba-837b-88d6b1971645",
   "metadata": {
    "jp-MarkdownHeadingCollapsed": true
   },
   "source": [
    "### Substitute \"Filler\" Values"
   ]
  },
  {
   "cell_type": "code",
   "execution_count": 88,
   "id": "baece889-0abc-4cdf-a819-2b220fd2648a",
   "metadata": {},
   "outputs": [
    {
     "data": {
      "text/plain": [
       "array(['id', 'loan_amnt', 'funded_amnt', 'int_rate', 'installment', 'total_pymnt'], dtype='<U19')"
      ]
     },
     "execution_count": 88,
     "metadata": {},
     "output_type": "execute_result"
    }
   ],
   "source": [
    "header_numeric"
   ]
  },
  {
   "cell_type": "markdown",
   "id": "af6dbcf2-91b2-4f23-a11d-349191d76e1c",
   "metadata": {
    "jp-MarkdownHeadingCollapsed": true
   },
   "source": [
    "### ID"
   ]
  },
  {
   "cell_type": "code",
   "execution_count": 89,
   "id": "1edc1303-d31f-49c3-8458-63ce9446830d",
   "metadata": {},
   "outputs": [
    {
     "data": {
      "text/plain": [
       "np.float64(68616520.0)"
      ]
     },
     "execution_count": 89,
     "metadata": {},
     "output_type": "execute_result"
    }
   ],
   "source": [
    "temporary_fill_highest"
   ]
  },
  {
   "cell_type": "code",
   "execution_count": 90,
   "id": "24a9e9ed-63c0-490c-9619-f13b3f6b4b3b",
   "metadata": {},
   "outputs": [
    {
     "data": {
      "text/plain": [
       "np.int64(0)"
      ]
     },
     "execution_count": 90,
     "metadata": {},
     "output_type": "execute_result"
    }
   ],
   "source": [
    "np.isin(loaded_loan_numeric[:,0], temporary_fill_highest).sum()"
   ]
  },
  {
   "cell_type": "markdown",
   "id": "98e646da-0513-4644-869a-0372344a684e",
   "metadata": {},
   "source": [
    "#### Temporary Stats"
   ]
  },
  {
   "cell_type": "code",
   "execution_count": 91,
   "id": "a0bab916-3026-475f-b13e-c871ee105dae",
   "metadata": {},
   "outputs": [
    {
     "data": {
      "text/plain": [
       "array([[  373332.  ,     1000.  ,     1000.  ,        6.  ,       31.42,        0.  ],\n",
       "       [54015809.19,    15273.46,    15311.04,       16.62,      440.92,     3143.85],\n",
       "       [68616519.  ,    35000.  ,    35000.  ,       28.99,     1372.97,    41913.62]])"
      ]
     },
     "execution_count": 91,
     "metadata": {},
     "output_type": "execute_result"
    }
   ],
   "source": [
    "temporary_stats[:, columns_numeric]"
   ]
  },
  {
   "cell_type": "markdown",
   "id": "b04267ac-72b3-4a83-b5c0-4fe739b79dd8",
   "metadata": {},
   "source": [
    "#### Funded Amount"
   ]
  },
  {
   "cell_type": "code",
   "execution_count": 92,
   "id": "7d7549d6-1733-479c-b5e2-841cc82193f4",
   "metadata": {},
   "outputs": [
    {
     "data": {
      "text/plain": [
       "array([35000., 30000., 15000., ..., 10000., 10000., 10000.], shape=(10000,))"
      ]
     },
     "execution_count": 92,
     "metadata": {},
     "output_type": "execute_result"
    }
   ],
   "source": [
    "loaded_loan_numeric[:,2]"
   ]
  },
  {
   "cell_type": "code",
   "execution_count": 93,
   "id": "b7203514-0ca6-4970-8b95-8f9405518c2b",
   "metadata": {},
   "outputs": [
    {
     "data": {
      "text/plain": [
       "array([35000., 30000., 15000., ..., 10000., 10000., 10000.], shape=(10000,))"
      ]
     },
     "execution_count": 93,
     "metadata": {},
     "output_type": "execute_result"
    }
   ],
   "source": [
    "loaded_loan_numeric[:,2] = np.where(loaded_loan_numeric[:,2] == temporary_fill_highest, \n",
    "                                  temporary_stats[0, columns_numeric[2]],\n",
    "                                  loaded_loan_numeric[:,2])\n",
    "loaded_loan_numeric[:,2]"
   ]
  },
  {
   "cell_type": "markdown",
   "id": "891ee5ff-d97e-4dd8-a587-7c7a3fa46307",
   "metadata": {},
   "source": [
    "#### Loaned Amount, Interest Rate, Total Payment, Installment"
   ]
  },
  {
   "cell_type": "code",
   "execution_count": 94,
   "id": "4c298dd7-527b-4dd0-ba9b-09d18e437c7b",
   "metadata": {},
   "outputs": [
    {
     "data": {
      "text/plain": [
       "array(['id', 'loan_amnt', 'funded_amnt', 'int_rate', 'installment', 'total_pymnt'], dtype='<U19')"
      ]
     },
     "execution_count": 94,
     "metadata": {},
     "output_type": "execute_result"
    }
   ],
   "source": [
    "header_numeric"
   ]
  },
  {
   "cell_type": "code",
   "execution_count": 95,
   "id": "1e75b3b3-1665-41a3-8134-269bc241be85",
   "metadata": {},
   "outputs": [],
   "source": [
    "for i in [1,3,4,5]:\n",
    "    loaded_loan_numeric[:,i] = np.where(loaded_loan_numeric[:,i] == temporary_fill_highest,\n",
    "                                      temporary_stats[2, columns_numeric[i]],\n",
    "                                      loaded_loan_numeric[:,i])"
   ]
  },
  {
   "cell_type": "code",
   "execution_count": 96,
   "id": "8d4fe628-a68b-4db2-8921-1928e9ed9654",
   "metadata": {},
   "outputs": [
    {
     "data": {
      "text/plain": [
       "array([[48010226.  ,    35000.  ,    35000.  ,       13.33,     1184.86,     9452.96],\n",
       "       [57693261.  ,    30000.  ,    30000.  ,       28.99,      938.57,     4679.7 ],\n",
       "       [59432726.  ,    15000.  ,    15000.  ,       28.99,      494.86,     1969.83],\n",
       "       ...,\n",
       "       [50415990.  ,    10000.  ,    10000.  ,       28.99,     1372.97,     2185.64],\n",
       "       [46154151.  ,    35000.  ,    10000.  ,       16.55,      354.3 ,     3199.4 ],\n",
       "       [66055249.  ,    10000.  ,    10000.  ,       28.99,      309.97,      301.9 ]],\n",
       "      shape=(10000, 6))"
      ]
     },
     "execution_count": 96,
     "metadata": {},
     "output_type": "execute_result"
    }
   ],
   "source": [
    "loaded_loan_numeric"
   ]
  },
  {
   "cell_type": "code",
   "execution_count": 97,
   "id": "f44d9fc2-5011-4d3d-ad38-2ebaffdcdb51",
   "metadata": {},
   "outputs": [
    {
     "data": {
      "text/plain": [
       "array([9452.96, 4679.7 , 1969.83, ..., 2185.64, 3199.4 ,  301.9 ], shape=(10000,))"
      ]
     },
     "execution_count": 97,
     "metadata": {},
     "output_type": "execute_result"
    }
   ],
   "source": [
    "loaded_loan_numeric[:,5]"
   ]
  },
  {
   "cell_type": "markdown",
   "id": "d9f1e8fa-f3c5-4288-91ed-2c45375784d5",
   "metadata": {
    "jp-MarkdownHeadingCollapsed": true
   },
   "source": [
    "### Interest Rate"
   ]
  },
  {
   "cell_type": "code",
   "execution_count": 98,
   "id": "a7b67322-618b-4a89-9caf-6f2d28080412",
   "metadata": {},
   "outputs": [
    {
     "data": {
      "text/plain": [
       "array(['id', 'loan_amnt', 'funded_amnt', 'int_rate', 'installment', 'total_pymnt'], dtype='<U19')"
      ]
     },
     "execution_count": 98,
     "metadata": {},
     "output_type": "execute_result"
    }
   ],
   "source": [
    "header_numeric"
   ]
  },
  {
   "cell_type": "code",
   "execution_count": 99,
   "id": "350c9c06-a9dd-4f18-a1ef-b1ed51ee2222",
   "metadata": {},
   "outputs": [
    {
     "data": {
      "text/plain": [
       "array([13.33, 28.99, 28.99, ..., 28.99, 16.55, 28.99], shape=(10000,))"
      ]
     },
     "execution_count": 99,
     "metadata": {},
     "output_type": "execute_result"
    }
   ],
   "source": [
    "loaded_loan_numeric[:,3]"
   ]
  },
  {
   "cell_type": "code",
   "execution_count": 100,
   "id": "04a013f3-e9e1-47ed-a39c-b443bad528ff",
   "metadata": {},
   "outputs": [],
   "source": [
    "loaded_loan_numeric[:,3] = loaded_loan_numeric[:,3]/100"
   ]
  },
  {
   "cell_type": "code",
   "execution_count": 101,
   "id": "26366934-f9aa-46a7-93da-869c66767f5b",
   "metadata": {},
   "outputs": [
    {
     "data": {
      "text/plain": [
       "array([0.13, 0.29, 0.29, ..., 0.29, 0.17, 0.29], shape=(10000,))"
      ]
     },
     "execution_count": 101,
     "metadata": {},
     "output_type": "execute_result"
    }
   ],
   "source": [
    "loaded_loan_numeric[:,3]"
   ]
  },
  {
   "cell_type": "markdown",
   "id": "40f89d47-178c-4c55-bb99-56dba4e74be9",
   "metadata": {
    "jp-MarkdownHeadingCollapsed": true
   },
   "source": [
    "### Checkpoint 2: Numeric"
   ]
  },
  {
   "cell_type": "code",
   "execution_count": 102,
   "id": "6b3a1d41-4ebf-4ae5-8fa5-58a5dd2e3ed6",
   "metadata": {},
   "outputs": [],
   "source": [
    "checkpoint_numeric = checkpoint(\"Checkpoint-Numeric\", header_numeric, loaded_loan_numeric)"
   ]
  },
  {
   "cell_type": "code",
   "execution_count": 103,
   "id": "8731a881-1ff8-41c6-9ebc-54dd308a5d5b",
   "metadata": {},
   "outputs": [
    {
     "data": {
      "text/plain": [
       "(array(['id', 'loan_amnt', 'funded_amnt', 'int_rate', 'installment', 'total_pymnt'], dtype='<U19'),\n",
       " array([[48010226.  ,    35000.  ,    35000.  ,        0.13,     1184.86,     9452.96],\n",
       "        [57693261.  ,    30000.  ,    30000.  ,        0.29,      938.57,     4679.7 ],\n",
       "        [59432726.  ,    15000.  ,    15000.  ,        0.29,      494.86,     1969.83],\n",
       "        ...,\n",
       "        [50415990.  ,    10000.  ,    10000.  ,        0.29,     1372.97,     2185.64],\n",
       "        [46154151.  ,    35000.  ,    10000.  ,        0.17,      354.3 ,     3199.4 ],\n",
       "        [66055249.  ,    10000.  ,    10000.  ,        0.29,      309.97,      301.9 ]],\n",
       "       shape=(10000, 6)))"
      ]
     },
     "execution_count": 103,
     "metadata": {},
     "output_type": "execute_result"
    }
   ],
   "source": [
    "checkpoint_numeric['header'], checkpoint_numeric['data']"
   ]
  },
  {
   "cell_type": "markdown",
   "id": "ce3f97b0-da60-426e-9425-647a63b7eb4d",
   "metadata": {
    "jp-MarkdownHeadingCollapsed": true
   },
   "source": [
    "### Creating the \"Complete\" Dataset"
   ]
  },
  {
   "cell_type": "code",
   "execution_count": 104,
   "id": "6cfed925-764a-4586-aced-96e11f74e58c",
   "metadata": {},
   "outputs": [
    {
     "data": {
      "text/plain": [
       "(10000, 6)"
      ]
     },
     "execution_count": 104,
     "metadata": {},
     "output_type": "execute_result"
    }
   ],
   "source": [
    "checkpoint_strings['data'].shape"
   ]
  },
  {
   "cell_type": "code",
   "execution_count": 105,
   "id": "00dbdcab-733e-45f3-a6d6-a37e897d11d3",
   "metadata": {},
   "outputs": [
    {
     "data": {
      "text/plain": [
       "(10000, 6)"
      ]
     },
     "execution_count": 105,
     "metadata": {},
     "output_type": "execute_result"
    }
   ],
   "source": [
    "checkpoint_numeric['data'].shape"
   ]
  },
  {
   "cell_type": "code",
   "execution_count": 106,
   "id": "b72a35ff-5ecf-4e23-a638-3624d77ccf55",
   "metadata": {},
   "outputs": [],
   "source": [
    "loan_data = np.hstack((checkpoint_numeric['data'], checkpoint_strings['data']))"
   ]
  },
  {
   "cell_type": "code",
   "execution_count": 107,
   "id": "d231d01e-ff48-486b-9051-cc9e6c9b54cd",
   "metadata": {},
   "outputs": [
    {
     "data": {
      "text/plain": [
       "array([[48010226.,    35000.,    35000., ...,       13.,        1.,        1.],\n",
       "       [57693261.,    30000.,    30000., ...,        5.,        1.,        4.],\n",
       "       [59432726.,    15000.,    15000., ...,       10.,        1.,        4.],\n",
       "       ...,\n",
       "       [50415990.,    10000.,    10000., ...,        5.,        1.,        1.],\n",
       "       [46154151.,    35000.,    10000., ...,       17.,        1.,        3.],\n",
       "       [66055249.,    10000.,    10000., ...,        4.,        0.,        3.]], shape=(10000, 12))"
      ]
     },
     "execution_count": 107,
     "metadata": {},
     "output_type": "execute_result"
    }
   ],
   "source": [
    "loan_data"
   ]
  },
  {
   "cell_type": "code",
   "execution_count": 108,
   "id": "ccef5747-c7ff-442a-8df5-26658cedd6cb",
   "metadata": {},
   "outputs": [
    {
     "data": {
      "text/plain": [
       "np.int64(0)"
      ]
     },
     "execution_count": 108,
     "metadata": {},
     "output_type": "execute_result"
    }
   ],
   "source": [
    "np.isnan(loan_data).sum()"
   ]
  },
  {
   "cell_type": "code",
   "execution_count": 109,
   "id": "bf747b2c-1c26-45da-9c7f-682d2d69b620",
   "metadata": {},
   "outputs": [],
   "source": [
    "header_full = np.concatenate((checkpoint_numeric['header'], checkpoint_strings['header']))"
   ]
  },
  {
   "cell_type": "code",
   "execution_count": 110,
   "id": "d36cbffd-ca26-4e3d-b7cf-830cc3197f06",
   "metadata": {},
   "outputs": [
    {
     "data": {
      "text/plain": [
       "array(['id', 'loan_amnt', 'funded_amnt', 'int_rate', 'installment', 'total_pymnt', 'issue_date',\n",
       "       'loan_status', 'term_months', 'sub_grade', 'verification_status', 'state_address'],\n",
       "      dtype='<U19')"
      ]
     },
     "execution_count": 110,
     "metadata": {},
     "output_type": "execute_result"
    }
   ],
   "source": [
    "header_full"
   ]
  },
  {
   "cell_type": "markdown",
   "id": "71af44a4-7963-4868-891b-1052c4c53153",
   "metadata": {
    "jp-MarkdownHeadingCollapsed": true
   },
   "source": [
    "### Sorting the New Dataset"
   ]
  },
  {
   "cell_type": "code",
   "execution_count": 111,
   "id": "41bde541-c2d5-42d1-ad49-76b93c990630",
   "metadata": {},
   "outputs": [],
   "source": [
    "loan_data = loan_data[np.argsort(loan_data[:,0])]"
   ]
  },
  {
   "cell_type": "code",
   "execution_count": 112,
   "id": "d3522c31-ecf7-4a39-a76d-5385cd14d2b1",
   "metadata": {},
   "outputs": [
    {
     "data": {
      "text/plain": [
       "array([[  373332.,     9950.,     1000., ...,       21.,        0.,        1.],\n",
       "       [  575239.,    12000.,    12000., ...,       25.,        1.,        2.],\n",
       "       [  707689.,    10000.,    10000., ...,       13.,        1.,        0.],\n",
       "       ...,\n",
       "       [68614880.,     5600.,     5600., ...,        8.,        1.,        1.],\n",
       "       [68615915.,     4000.,     4000., ...,       10.,        1.,        2.],\n",
       "       [68616519.,    21600.,    21600., ...,        3.,        0.,        2.]], shape=(10000, 12))"
      ]
     },
     "execution_count": 112,
     "metadata": {},
     "output_type": "execute_result"
    }
   ],
   "source": [
    "loan_data"
   ]
  },
  {
   "cell_type": "code",
   "execution_count": 113,
   "id": "84fe6b3f-0e04-439b-9b4a-c5810347c779",
   "metadata": {},
   "outputs": [
    {
     "data": {
      "text/plain": [
       "array([   0,    1,    2, ..., 9997, 9998, 9999], shape=(10000,))"
      ]
     },
     "execution_count": 113,
     "metadata": {},
     "output_type": "execute_result"
    }
   ],
   "source": [
    "np.argsort(loan_data[:,0])"
   ]
  },
  {
   "cell_type": "markdown",
   "id": "614b8c17-5b69-4c91-8af5-0b958dafc67a",
   "metadata": {
    "jp-MarkdownHeadingCollapsed": true
   },
   "source": [
    "### Storing the New Dataset"
   ]
  },
  {
   "cell_type": "code",
   "execution_count": 114,
   "id": "bbb457d8-29b2-4ab1-9ea9-9fa54a397b56",
   "metadata": {},
   "outputs": [],
   "source": [
    "loan_data = np.vstack((header_full, loan_data))"
   ]
  },
  {
   "cell_type": "code",
   "execution_count": 115,
   "id": "2339bff9-9405-448d-9a9d-53c6adcecab6",
   "metadata": {},
   "outputs": [
    {
     "data": {
      "text/plain": [
       "array([['id', 'loan_amnt', 'funded_amnt', ..., 'sub_grade', 'verification_status',\n",
       "        'state_address'],\n",
       "       ['373332.0', '9950.0', '1000.0', ..., '21.0', '0.0', '1.0'],\n",
       "       ['575239.0', '12000.0', '12000.0', ..., '25.0', '1.0', '2.0'],\n",
       "       ...,\n",
       "       ['68614880.0', '5600.0', '5600.0', ..., '8.0', '1.0', '1.0'],\n",
       "       ['68615915.0', '4000.0', '4000.0', ..., '10.0', '1.0', '2.0'],\n",
       "       ['68616519.0', '21600.0', '21600.0', ..., '3.0', '0.0', '2.0']],\n",
       "      shape=(10001, 12), dtype='<U32')"
      ]
     },
     "execution_count": 115,
     "metadata": {},
     "output_type": "execute_result"
    }
   ],
   "source": [
    "loan_data"
   ]
  },
  {
   "cell_type": "code",
   "execution_count": 116,
   "id": "4ba84091-b66b-4b6e-909f-397fe91f2d93",
   "metadata": {},
   "outputs": [
    {
     "data": {
      "text/plain": [
       "array([['id', 'loan_amnt', 'funded_amnt', ..., 'sub_grade', 'verification_status',\n",
       "        'state_address'],\n",
       "       ['373332.0', '9950.0', '1000.0', ..., '21.0', '0.0', '1.0'],\n",
       "       ['575239.0', '12000.0', '12000.0', ..., '25.0', '1.0', '2.0'],\n",
       "       ...,\n",
       "       ['68614880.0', '5600.0', '5600.0', ..., '8.0', '1.0', '1.0'],\n",
       "       ['68615915.0', '4000.0', '4000.0', ..., '10.0', '1.0', '2.0'],\n",
       "       ['68616519.0', '21600.0', '21600.0', ..., '3.0', '0.0', '2.0']],\n",
       "      shape=(10001, 12), dtype='<U32')"
      ]
     },
     "execution_count": 116,
     "metadata": {},
     "output_type": "execute_result"
    }
   ],
   "source": [
    "loan_data"
   ]
  },
  {
   "cell_type": "code",
   "execution_count": 117,
   "id": "0f513d58-431a-4d38-957a-29f458094283",
   "metadata": {},
   "outputs": [
    {
     "data": {
      "text/html": [
       "<div>\n",
       "<style scoped>\n",
       "    .dataframe tbody tr th:only-of-type {\n",
       "        vertical-align: middle;\n",
       "    }\n",
       "\n",
       "    .dataframe tbody tr th {\n",
       "        vertical-align: top;\n",
       "    }\n",
       "\n",
       "    .dataframe thead th {\n",
       "        text-align: right;\n",
       "    }\n",
       "</style>\n",
       "<table border=\"1\" class=\"dataframe\">\n",
       "  <thead>\n",
       "    <tr style=\"text-align: right;\">\n",
       "      <th></th>\n",
       "      <th>0</th>\n",
       "      <th>1</th>\n",
       "      <th>2</th>\n",
       "      <th>3</th>\n",
       "      <th>4</th>\n",
       "      <th>5</th>\n",
       "      <th>6</th>\n",
       "      <th>7</th>\n",
       "      <th>8</th>\n",
       "      <th>9</th>\n",
       "      <th>10</th>\n",
       "      <th>11</th>\n",
       "    </tr>\n",
       "  </thead>\n",
       "  <tbody>\n",
       "    <tr>\n",
       "      <th>0</th>\n",
       "      <td>id</td>\n",
       "      <td>loan_amnt</td>\n",
       "      <td>funded_amnt</td>\n",
       "      <td>int_rate</td>\n",
       "      <td>installment</td>\n",
       "      <td>total_pymnt</td>\n",
       "      <td>issue_date</td>\n",
       "      <td>loan_status</td>\n",
       "      <td>term_months</td>\n",
       "      <td>sub_grade</td>\n",
       "      <td>verification_status</td>\n",
       "      <td>state_address</td>\n",
       "    </tr>\n",
       "    <tr>\n",
       "      <th>1</th>\n",
       "      <td>373332.0</td>\n",
       "      <td>9950.0</td>\n",
       "      <td>1000.0</td>\n",
       "      <td>0.1825</td>\n",
       "      <td>360.97</td>\n",
       "      <td>1072.82</td>\n",
       "      <td>10.0</td>\n",
       "      <td>1.0</td>\n",
       "      <td>36.0</td>\n",
       "      <td>21.0</td>\n",
       "      <td>0.0</td>\n",
       "      <td>1.0</td>\n",
       "    </tr>\n",
       "    <tr>\n",
       "      <th>2</th>\n",
       "      <td>575239.0</td>\n",
       "      <td>12000.0</td>\n",
       "      <td>12000.0</td>\n",
       "      <td>0.20989999999999998</td>\n",
       "      <td>324.58</td>\n",
       "      <td>959.75</td>\n",
       "      <td>10.0</td>\n",
       "      <td>1.0</td>\n",
       "      <td>60.0</td>\n",
       "      <td>25.0</td>\n",
       "      <td>1.0</td>\n",
       "      <td>2.0</td>\n",
       "    </tr>\n",
       "    <tr>\n",
       "      <th>3</th>\n",
       "      <td>707689.0</td>\n",
       "      <td>10000.0</td>\n",
       "      <td>10000.0</td>\n",
       "      <td>0.1366</td>\n",
       "      <td>340.13</td>\n",
       "      <td>3726.25</td>\n",
       "      <td>2.0</td>\n",
       "      <td>1.0</td>\n",
       "      <td>36.0</td>\n",
       "      <td>13.0</td>\n",
       "      <td>1.0</td>\n",
       "      <td>0.0</td>\n",
       "    </tr>\n",
       "    <tr>\n",
       "      <th>4</th>\n",
       "      <td>709828.0</td>\n",
       "      <td>27200.0</td>\n",
       "      <td>27200.0</td>\n",
       "      <td>0.2899</td>\n",
       "      <td>553.87</td>\n",
       "      <td>41913.62</td>\n",
       "      <td>10.0</td>\n",
       "      <td>1.0</td>\n",
       "      <td>60.0</td>\n",
       "      <td>6.0</td>\n",
       "      <td>0.0</td>\n",
       "      <td>4.0</td>\n",
       "    </tr>\n",
       "    <tr>\n",
       "      <th>...</th>\n",
       "      <td>...</td>\n",
       "      <td>...</td>\n",
       "      <td>...</td>\n",
       "      <td>...</td>\n",
       "      <td>...</td>\n",
       "      <td>...</td>\n",
       "      <td>...</td>\n",
       "      <td>...</td>\n",
       "      <td>...</td>\n",
       "      <td>...</td>\n",
       "      <td>...</td>\n",
       "      <td>...</td>\n",
       "    </tr>\n",
       "    <tr>\n",
       "      <th>9996</th>\n",
       "      <td>68603178.0</td>\n",
       "      <td>14000.0</td>\n",
       "      <td>14000.0</td>\n",
       "      <td>0.2899</td>\n",
       "      <td>421.61</td>\n",
       "      <td>41913.62</td>\n",
       "      <td>12.0</td>\n",
       "      <td>1.0</td>\n",
       "      <td>36.0</td>\n",
       "      <td>1.0</td>\n",
       "      <td>0.0</td>\n",
       "      <td>1.0</td>\n",
       "    </tr>\n",
       "    <tr>\n",
       "      <th>9997</th>\n",
       "      <td>68604253.0</td>\n",
       "      <td>20000.0</td>\n",
       "      <td>20000.0</td>\n",
       "      <td>0.2899</td>\n",
       "      <td>631.26</td>\n",
       "      <td>0.0</td>\n",
       "      <td>12.0</td>\n",
       "      <td>1.0</td>\n",
       "      <td>36.0</td>\n",
       "      <td>6.0</td>\n",
       "      <td>0.0</td>\n",
       "      <td>2.0</td>\n",
       "    </tr>\n",
       "    <tr>\n",
       "      <th>9998</th>\n",
       "      <td>68614880.0</td>\n",
       "      <td>5600.0</td>\n",
       "      <td>5600.0</td>\n",
       "      <td>0.2899</td>\n",
       "      <td>180.18</td>\n",
       "      <td>0.0</td>\n",
       "      <td>12.0</td>\n",
       "      <td>1.0</td>\n",
       "      <td>36.0</td>\n",
       "      <td>8.0</td>\n",
       "      <td>1.0</td>\n",
       "      <td>1.0</td>\n",
       "    </tr>\n",
       "    <tr>\n",
       "      <th>9999</th>\n",
       "      <td>68615915.0</td>\n",
       "      <td>4000.0</td>\n",
       "      <td>4000.0</td>\n",
       "      <td>0.2899</td>\n",
       "      <td>131.87</td>\n",
       "      <td>0.0</td>\n",
       "      <td>12.0</td>\n",
       "      <td>1.0</td>\n",
       "      <td>36.0</td>\n",
       "      <td>10.0</td>\n",
       "      <td>1.0</td>\n",
       "      <td>2.0</td>\n",
       "    </tr>\n",
       "    <tr>\n",
       "      <th>10000</th>\n",
       "      <td>68616519.0</td>\n",
       "      <td>21600.0</td>\n",
       "      <td>21600.0</td>\n",
       "      <td>0.2899</td>\n",
       "      <td>666.85</td>\n",
       "      <td>0.0</td>\n",
       "      <td>12.0</td>\n",
       "      <td>1.0</td>\n",
       "      <td>36.0</td>\n",
       "      <td>3.0</td>\n",
       "      <td>0.0</td>\n",
       "      <td>2.0</td>\n",
       "    </tr>\n",
       "  </tbody>\n",
       "</table>\n",
       "<p>10001 rows × 12 columns</p>\n",
       "</div>"
      ],
      "text/plain": [
       "               0          1            2                    3            4   \\\n",
       "0              id  loan_amnt  funded_amnt             int_rate  installment   \n",
       "1        373332.0     9950.0       1000.0               0.1825       360.97   \n",
       "2        575239.0    12000.0      12000.0  0.20989999999999998       324.58   \n",
       "3        707689.0    10000.0      10000.0               0.1366       340.13   \n",
       "4        709828.0    27200.0      27200.0               0.2899       553.87   \n",
       "...           ...        ...          ...                  ...          ...   \n",
       "9996   68603178.0    14000.0      14000.0               0.2899       421.61   \n",
       "9997   68604253.0    20000.0      20000.0               0.2899       631.26   \n",
       "9998   68614880.0     5600.0       5600.0               0.2899       180.18   \n",
       "9999   68615915.0     4000.0       4000.0               0.2899       131.87   \n",
       "10000  68616519.0    21600.0      21600.0               0.2899       666.85   \n",
       "\n",
       "                5           6            7            8          9   \\\n",
       "0      total_pymnt  issue_date  loan_status  term_months  sub_grade   \n",
       "1          1072.82        10.0          1.0         36.0       21.0   \n",
       "2           959.75        10.0          1.0         60.0       25.0   \n",
       "3          3726.25         2.0          1.0         36.0       13.0   \n",
       "4         41913.62        10.0          1.0         60.0        6.0   \n",
       "...            ...         ...          ...          ...        ...   \n",
       "9996      41913.62        12.0          1.0         36.0        1.0   \n",
       "9997           0.0        12.0          1.0         36.0        6.0   \n",
       "9998           0.0        12.0          1.0         36.0        8.0   \n",
       "9999           0.0        12.0          1.0         36.0       10.0   \n",
       "10000          0.0        12.0          1.0         36.0        3.0   \n",
       "\n",
       "                        10             11  \n",
       "0      verification_status  state_address  \n",
       "1                      0.0            1.0  \n",
       "2                      1.0            2.0  \n",
       "3                      1.0            0.0  \n",
       "4                      0.0            4.0  \n",
       "...                    ...            ...  \n",
       "9996                   0.0            1.0  \n",
       "9997                   0.0            2.0  \n",
       "9998                   1.0            1.0  \n",
       "9999                   1.0            2.0  \n",
       "10000                  0.0            2.0  \n",
       "\n",
       "[10001 rows x 12 columns]"
      ]
     },
     "execution_count": 117,
     "metadata": {},
     "output_type": "execute_result"
    }
   ],
   "source": [
    "pd.DataFrame(loan_data)"
   ]
  },
  {
   "cell_type": "code",
   "execution_count": 118,
   "id": "587e9f52-3ca3-4357-9af8-f33179027283",
   "metadata": {},
   "outputs": [
    {
     "data": {
      "text/plain": [
       "array(['int_rate', '0.1825', '0.20989999999999998', ..., '0.2899', '0.2899', '0.2899'],\n",
       "      shape=(10001,), dtype='<U32')"
      ]
     },
     "execution_count": 118,
     "metadata": {},
     "output_type": "execute_result"
    }
   ],
   "source": [
    "loan_data[:,3]"
   ]
  },
  {
   "cell_type": "code",
   "execution_count": 119,
   "id": "d1f5be29-e7e6-4f0b-9603-85338aef280a",
   "metadata": {},
   "outputs": [
    {
     "data": {
      "text/plain": [
       "array([[  373332.,     9950.,     1000., ...,       21.,        0.,        1.],\n",
       "       [  575239.,    12000.,    12000., ...,       25.,        1.,        2.],\n",
       "       [  707689.,    10000.,    10000., ...,       13.,        1.,        0.],\n",
       "       ...,\n",
       "       [68614880.,     5600.,     5600., ...,        8.,        1.,        1.],\n",
       "       [68615915.,     4000.,     4000., ...,       10.,        1.,        2.],\n",
       "       [68616519.,    21600.,    21600., ...,        3.,        0.,        2.]], shape=(10000, 12))"
      ]
     },
     "execution_count": 119,
     "metadata": {},
     "output_type": "execute_result"
    }
   ],
   "source": [
    "rows = loan_data[1:].astype(float)\n",
    "rows"
   ]
  },
  {
   "cell_type": "code",
   "execution_count": 120,
   "id": "bee3d042-f59e-4cc3-84aa-aef67c9790cd",
   "metadata": {},
   "outputs": [
    {
     "data": {
      "text/html": [
       "<div>\n",
       "<style scoped>\n",
       "    .dataframe tbody tr th:only-of-type {\n",
       "        vertical-align: middle;\n",
       "    }\n",
       "\n",
       "    .dataframe tbody tr th {\n",
       "        vertical-align: top;\n",
       "    }\n",
       "\n",
       "    .dataframe thead th {\n",
       "        text-align: right;\n",
       "    }\n",
       "</style>\n",
       "<table border=\"1\" class=\"dataframe\">\n",
       "  <thead>\n",
       "    <tr style=\"text-align: right;\">\n",
       "      <th></th>\n",
       "      <th>0</th>\n",
       "      <th>1</th>\n",
       "      <th>2</th>\n",
       "      <th>3</th>\n",
       "      <th>4</th>\n",
       "      <th>5</th>\n",
       "      <th>6</th>\n",
       "      <th>7</th>\n",
       "      <th>8</th>\n",
       "      <th>9</th>\n",
       "      <th>10</th>\n",
       "      <th>11</th>\n",
       "    </tr>\n",
       "  </thead>\n",
       "  <tbody>\n",
       "    <tr>\n",
       "      <th>0</th>\n",
       "      <td>id</td>\n",
       "      <td>loan_amnt</td>\n",
       "      <td>funded_amnt</td>\n",
       "      <td>int_rate</td>\n",
       "      <td>installment</td>\n",
       "      <td>total_pymnt</td>\n",
       "      <td>issue_date</td>\n",
       "      <td>loan_status</td>\n",
       "      <td>term_months</td>\n",
       "      <td>sub_grade</td>\n",
       "      <td>verification_status</td>\n",
       "      <td>state_address</td>\n",
       "    </tr>\n",
       "    <tr>\n",
       "      <th>1</th>\n",
       "      <td>373332.0</td>\n",
       "      <td>9950.0</td>\n",
       "      <td>1000.0</td>\n",
       "      <td>0.1825</td>\n",
       "      <td>360.97</td>\n",
       "      <td>1072.82</td>\n",
       "      <td>10.0</td>\n",
       "      <td>1.0</td>\n",
       "      <td>36.0</td>\n",
       "      <td>21.0</td>\n",
       "      <td>0.0</td>\n",
       "      <td>1.0</td>\n",
       "    </tr>\n",
       "    <tr>\n",
       "      <th>2</th>\n",
       "      <td>575239.0</td>\n",
       "      <td>12000.0</td>\n",
       "      <td>12000.0</td>\n",
       "      <td>0.20989999999999998</td>\n",
       "      <td>324.58</td>\n",
       "      <td>959.75</td>\n",
       "      <td>10.0</td>\n",
       "      <td>1.0</td>\n",
       "      <td>60.0</td>\n",
       "      <td>25.0</td>\n",
       "      <td>1.0</td>\n",
       "      <td>2.0</td>\n",
       "    </tr>\n",
       "    <tr>\n",
       "      <th>3</th>\n",
       "      <td>707689.0</td>\n",
       "      <td>10000.0</td>\n",
       "      <td>10000.0</td>\n",
       "      <td>0.1366</td>\n",
       "      <td>340.13</td>\n",
       "      <td>3726.25</td>\n",
       "      <td>2.0</td>\n",
       "      <td>1.0</td>\n",
       "      <td>36.0</td>\n",
       "      <td>13.0</td>\n",
       "      <td>1.0</td>\n",
       "      <td>0.0</td>\n",
       "    </tr>\n",
       "    <tr>\n",
       "      <th>4</th>\n",
       "      <td>709828.0</td>\n",
       "      <td>27200.0</td>\n",
       "      <td>27200.0</td>\n",
       "      <td>0.2899</td>\n",
       "      <td>553.87</td>\n",
       "      <td>41913.62</td>\n",
       "      <td>10.0</td>\n",
       "      <td>1.0</td>\n",
       "      <td>60.0</td>\n",
       "      <td>6.0</td>\n",
       "      <td>0.0</td>\n",
       "      <td>4.0</td>\n",
       "    </tr>\n",
       "    <tr>\n",
       "      <th>...</th>\n",
       "      <td>...</td>\n",
       "      <td>...</td>\n",
       "      <td>...</td>\n",
       "      <td>...</td>\n",
       "      <td>...</td>\n",
       "      <td>...</td>\n",
       "      <td>...</td>\n",
       "      <td>...</td>\n",
       "      <td>...</td>\n",
       "      <td>...</td>\n",
       "      <td>...</td>\n",
       "      <td>...</td>\n",
       "    </tr>\n",
       "    <tr>\n",
       "      <th>9996</th>\n",
       "      <td>68603178.0</td>\n",
       "      <td>14000.0</td>\n",
       "      <td>14000.0</td>\n",
       "      <td>0.2899</td>\n",
       "      <td>421.61</td>\n",
       "      <td>41913.62</td>\n",
       "      <td>12.0</td>\n",
       "      <td>1.0</td>\n",
       "      <td>36.0</td>\n",
       "      <td>1.0</td>\n",
       "      <td>0.0</td>\n",
       "      <td>1.0</td>\n",
       "    </tr>\n",
       "    <tr>\n",
       "      <th>9997</th>\n",
       "      <td>68604253.0</td>\n",
       "      <td>20000.0</td>\n",
       "      <td>20000.0</td>\n",
       "      <td>0.2899</td>\n",
       "      <td>631.26</td>\n",
       "      <td>0.0</td>\n",
       "      <td>12.0</td>\n",
       "      <td>1.0</td>\n",
       "      <td>36.0</td>\n",
       "      <td>6.0</td>\n",
       "      <td>0.0</td>\n",
       "      <td>2.0</td>\n",
       "    </tr>\n",
       "    <tr>\n",
       "      <th>9998</th>\n",
       "      <td>68614880.0</td>\n",
       "      <td>5600.0</td>\n",
       "      <td>5600.0</td>\n",
       "      <td>0.2899</td>\n",
       "      <td>180.18</td>\n",
       "      <td>0.0</td>\n",
       "      <td>12.0</td>\n",
       "      <td>1.0</td>\n",
       "      <td>36.0</td>\n",
       "      <td>8.0</td>\n",
       "      <td>1.0</td>\n",
       "      <td>1.0</td>\n",
       "    </tr>\n",
       "    <tr>\n",
       "      <th>9999</th>\n",
       "      <td>68615915.0</td>\n",
       "      <td>4000.0</td>\n",
       "      <td>4000.0</td>\n",
       "      <td>0.2899</td>\n",
       "      <td>131.87</td>\n",
       "      <td>0.0</td>\n",
       "      <td>12.0</td>\n",
       "      <td>1.0</td>\n",
       "      <td>36.0</td>\n",
       "      <td>10.0</td>\n",
       "      <td>1.0</td>\n",
       "      <td>2.0</td>\n",
       "    </tr>\n",
       "    <tr>\n",
       "      <th>10000</th>\n",
       "      <td>68616519.0</td>\n",
       "      <td>21600.0</td>\n",
       "      <td>21600.0</td>\n",
       "      <td>0.2899</td>\n",
       "      <td>666.85</td>\n",
       "      <td>0.0</td>\n",
       "      <td>12.0</td>\n",
       "      <td>1.0</td>\n",
       "      <td>36.0</td>\n",
       "      <td>3.0</td>\n",
       "      <td>0.0</td>\n",
       "      <td>2.0</td>\n",
       "    </tr>\n",
       "  </tbody>\n",
       "</table>\n",
       "<p>10001 rows × 12 columns</p>\n",
       "</div>"
      ],
      "text/plain": [
       "               0          1            2                    3            4   \\\n",
       "0              id  loan_amnt  funded_amnt             int_rate  installment   \n",
       "1        373332.0     9950.0       1000.0               0.1825       360.97   \n",
       "2        575239.0    12000.0      12000.0  0.20989999999999998       324.58   \n",
       "3        707689.0    10000.0      10000.0               0.1366       340.13   \n",
       "4        709828.0    27200.0      27200.0               0.2899       553.87   \n",
       "...           ...        ...          ...                  ...          ...   \n",
       "9996   68603178.0    14000.0      14000.0               0.2899       421.61   \n",
       "9997   68604253.0    20000.0      20000.0               0.2899       631.26   \n",
       "9998   68614880.0     5600.0       5600.0               0.2899       180.18   \n",
       "9999   68615915.0     4000.0       4000.0               0.2899       131.87   \n",
       "10000  68616519.0    21600.0      21600.0               0.2899       666.85   \n",
       "\n",
       "                5           6            7            8          9   \\\n",
       "0      total_pymnt  issue_date  loan_status  term_months  sub_grade   \n",
       "1          1072.82        10.0          1.0         36.0       21.0   \n",
       "2           959.75        10.0          1.0         60.0       25.0   \n",
       "3          3726.25         2.0          1.0         36.0       13.0   \n",
       "4         41913.62        10.0          1.0         60.0        6.0   \n",
       "...            ...         ...          ...          ...        ...   \n",
       "9996      41913.62        12.0          1.0         36.0        1.0   \n",
       "9997           0.0        12.0          1.0         36.0        6.0   \n",
       "9998           0.0        12.0          1.0         36.0        8.0   \n",
       "9999           0.0        12.0          1.0         36.0       10.0   \n",
       "10000          0.0        12.0          1.0         36.0        3.0   \n",
       "\n",
       "                        10             11  \n",
       "0      verification_status  state_address  \n",
       "1                      0.0            1.0  \n",
       "2                      1.0            2.0  \n",
       "3                      1.0            0.0  \n",
       "4                      0.0            4.0  \n",
       "...                    ...            ...  \n",
       "9996                   0.0            1.0  \n",
       "9997                   0.0            2.0  \n",
       "9998                   1.0            1.0  \n",
       "9999                   1.0            2.0  \n",
       "10000                  0.0            2.0  \n",
       "\n",
       "[10001 rows x 12 columns]"
      ]
     },
     "execution_count": 120,
     "metadata": {},
     "output_type": "execute_result"
    }
   ],
   "source": [
    "pd.DataFrame(loan_data)"
   ]
  },
  {
   "cell_type": "code",
   "execution_count": 121,
   "id": "8b423508-f346-496f-8731-6aaf0907237d",
   "metadata": {},
   "outputs": [],
   "source": [
    "np.savetxt(\"loan-data-preprocessed-ready-to-vz.csv\", \n",
    "           loan_data, \n",
    "           fmt = '%s',\n",
    "           delimiter = ',')"
   ]
  },
  {
   "cell_type": "markdown",
   "id": "a29bb8f3-6d09-4c72-8eee-f22d92bd69ec",
   "metadata": {
    "jp-MarkdownHeadingCollapsed": true
   },
   "source": [
    "### Time for Visualization"
   ]
  },
  {
   "cell_type": "code",
   "execution_count": 122,
   "id": "e910eb0d-2961-40ac-86db-735670f51e48",
   "metadata": {},
   "outputs": [],
   "source": [
    "import matplotlib.pyplot as plt"
   ]
  },
  {
   "cell_type": "code",
   "execution_count": 123,
   "id": "64b1c25a-357d-45b5-a1bf-90fa73d32d35",
   "metadata": {},
   "outputs": [
    {
     "data": {
      "text/html": [
       "<div>\n",
       "<style scoped>\n",
       "    .dataframe tbody tr th:only-of-type {\n",
       "        vertical-align: middle;\n",
       "    }\n",
       "\n",
       "    .dataframe tbody tr th {\n",
       "        vertical-align: top;\n",
       "    }\n",
       "\n",
       "    .dataframe thead th {\n",
       "        text-align: right;\n",
       "    }\n",
       "</style>\n",
       "<table border=\"1\" class=\"dataframe\">\n",
       "  <thead>\n",
       "    <tr style=\"text-align: right;\">\n",
       "      <th></th>\n",
       "      <th>id</th>\n",
       "      <th>loan_amnt</th>\n",
       "      <th>funded_amnt</th>\n",
       "      <th>int_rate</th>\n",
       "      <th>installment</th>\n",
       "      <th>total_pymnt</th>\n",
       "      <th>issue_date</th>\n",
       "      <th>loan_status</th>\n",
       "      <th>term_months</th>\n",
       "      <th>sub_grade</th>\n",
       "      <th>verification_status</th>\n",
       "      <th>state_address</th>\n",
       "    </tr>\n",
       "  </thead>\n",
       "  <tbody>\n",
       "    <tr>\n",
       "      <th>0</th>\n",
       "      <td>373332.0</td>\n",
       "      <td>9950.0</td>\n",
       "      <td>1000.0</td>\n",
       "      <td>0.1825</td>\n",
       "      <td>360.97</td>\n",
       "      <td>1072.82</td>\n",
       "      <td>10.0</td>\n",
       "      <td>1.0</td>\n",
       "      <td>36.0</td>\n",
       "      <td>21.0</td>\n",
       "      <td>0.0</td>\n",
       "      <td>1.0</td>\n",
       "    </tr>\n",
       "    <tr>\n",
       "      <th>1</th>\n",
       "      <td>575239.0</td>\n",
       "      <td>12000.0</td>\n",
       "      <td>12000.0</td>\n",
       "      <td>0.2099</td>\n",
       "      <td>324.58</td>\n",
       "      <td>959.75</td>\n",
       "      <td>10.0</td>\n",
       "      <td>1.0</td>\n",
       "      <td>60.0</td>\n",
       "      <td>25.0</td>\n",
       "      <td>1.0</td>\n",
       "      <td>2.0</td>\n",
       "    </tr>\n",
       "    <tr>\n",
       "      <th>2</th>\n",
       "      <td>707689.0</td>\n",
       "      <td>10000.0</td>\n",
       "      <td>10000.0</td>\n",
       "      <td>0.1366</td>\n",
       "      <td>340.13</td>\n",
       "      <td>3726.25</td>\n",
       "      <td>2.0</td>\n",
       "      <td>1.0</td>\n",
       "      <td>36.0</td>\n",
       "      <td>13.0</td>\n",
       "      <td>1.0</td>\n",
       "      <td>0.0</td>\n",
       "    </tr>\n",
       "    <tr>\n",
       "      <th>3</th>\n",
       "      <td>709828.0</td>\n",
       "      <td>27200.0</td>\n",
       "      <td>27200.0</td>\n",
       "      <td>0.2899</td>\n",
       "      <td>553.87</td>\n",
       "      <td>41913.62</td>\n",
       "      <td>10.0</td>\n",
       "      <td>1.0</td>\n",
       "      <td>60.0</td>\n",
       "      <td>6.0</td>\n",
       "      <td>0.0</td>\n",
       "      <td>4.0</td>\n",
       "    </tr>\n",
       "    <tr>\n",
       "      <th>4</th>\n",
       "      <td>849994.0</td>\n",
       "      <td>11400.0</td>\n",
       "      <td>11400.0</td>\n",
       "      <td>0.2899</td>\n",
       "      <td>376.09</td>\n",
       "      <td>3753.60</td>\n",
       "      <td>3.0</td>\n",
       "      <td>1.0</td>\n",
       "      <td>36.0</td>\n",
       "      <td>10.0</td>\n",
       "      <td>0.0</td>\n",
       "      <td>1.0</td>\n",
       "    </tr>\n",
       "    <tr>\n",
       "      <th>...</th>\n",
       "      <td>...</td>\n",
       "      <td>...</td>\n",
       "      <td>...</td>\n",
       "      <td>...</td>\n",
       "      <td>...</td>\n",
       "      <td>...</td>\n",
       "      <td>...</td>\n",
       "      <td>...</td>\n",
       "      <td>...</td>\n",
       "      <td>...</td>\n",
       "      <td>...</td>\n",
       "      <td>...</td>\n",
       "    </tr>\n",
       "    <tr>\n",
       "      <th>9995</th>\n",
       "      <td>68603178.0</td>\n",
       "      <td>14000.0</td>\n",
       "      <td>14000.0</td>\n",
       "      <td>0.2899</td>\n",
       "      <td>421.61</td>\n",
       "      <td>41913.62</td>\n",
       "      <td>12.0</td>\n",
       "      <td>1.0</td>\n",
       "      <td>36.0</td>\n",
       "      <td>1.0</td>\n",
       "      <td>0.0</td>\n",
       "      <td>1.0</td>\n",
       "    </tr>\n",
       "    <tr>\n",
       "      <th>9996</th>\n",
       "      <td>68604253.0</td>\n",
       "      <td>20000.0</td>\n",
       "      <td>20000.0</td>\n",
       "      <td>0.2899</td>\n",
       "      <td>631.26</td>\n",
       "      <td>0.00</td>\n",
       "      <td>12.0</td>\n",
       "      <td>1.0</td>\n",
       "      <td>36.0</td>\n",
       "      <td>6.0</td>\n",
       "      <td>0.0</td>\n",
       "      <td>2.0</td>\n",
       "    </tr>\n",
       "    <tr>\n",
       "      <th>9997</th>\n",
       "      <td>68614880.0</td>\n",
       "      <td>5600.0</td>\n",
       "      <td>5600.0</td>\n",
       "      <td>0.2899</td>\n",
       "      <td>180.18</td>\n",
       "      <td>0.00</td>\n",
       "      <td>12.0</td>\n",
       "      <td>1.0</td>\n",
       "      <td>36.0</td>\n",
       "      <td>8.0</td>\n",
       "      <td>1.0</td>\n",
       "      <td>1.0</td>\n",
       "    </tr>\n",
       "    <tr>\n",
       "      <th>9998</th>\n",
       "      <td>68615915.0</td>\n",
       "      <td>4000.0</td>\n",
       "      <td>4000.0</td>\n",
       "      <td>0.2899</td>\n",
       "      <td>131.87</td>\n",
       "      <td>0.00</td>\n",
       "      <td>12.0</td>\n",
       "      <td>1.0</td>\n",
       "      <td>36.0</td>\n",
       "      <td>10.0</td>\n",
       "      <td>1.0</td>\n",
       "      <td>2.0</td>\n",
       "    </tr>\n",
       "    <tr>\n",
       "      <th>9999</th>\n",
       "      <td>68616519.0</td>\n",
       "      <td>21600.0</td>\n",
       "      <td>21600.0</td>\n",
       "      <td>0.2899</td>\n",
       "      <td>666.85</td>\n",
       "      <td>0.00</td>\n",
       "      <td>12.0</td>\n",
       "      <td>1.0</td>\n",
       "      <td>36.0</td>\n",
       "      <td>3.0</td>\n",
       "      <td>0.0</td>\n",
       "      <td>2.0</td>\n",
       "    </tr>\n",
       "  </tbody>\n",
       "</table>\n",
       "<p>10000 rows × 12 columns</p>\n",
       "</div>"
      ],
      "text/plain": [
       "              id  loan_amnt  funded_amnt  int_rate  installment  total_pymnt  \\\n",
       "0       373332.0     9950.0       1000.0    0.1825       360.97      1072.82   \n",
       "1       575239.0    12000.0      12000.0    0.2099       324.58       959.75   \n",
       "2       707689.0    10000.0      10000.0    0.1366       340.13      3726.25   \n",
       "3       709828.0    27200.0      27200.0    0.2899       553.87     41913.62   \n",
       "4       849994.0    11400.0      11400.0    0.2899       376.09      3753.60   \n",
       "...          ...        ...          ...       ...          ...          ...   \n",
       "9995  68603178.0    14000.0      14000.0    0.2899       421.61     41913.62   \n",
       "9996  68604253.0    20000.0      20000.0    0.2899       631.26         0.00   \n",
       "9997  68614880.0     5600.0       5600.0    0.2899       180.18         0.00   \n",
       "9998  68615915.0     4000.0       4000.0    0.2899       131.87         0.00   \n",
       "9999  68616519.0    21600.0      21600.0    0.2899       666.85         0.00   \n",
       "\n",
       "      issue_date  loan_status  term_months  sub_grade  verification_status  \\\n",
       "0           10.0          1.0         36.0       21.0                  0.0   \n",
       "1           10.0          1.0         60.0       25.0                  1.0   \n",
       "2            2.0          1.0         36.0       13.0                  1.0   \n",
       "3           10.0          1.0         60.0        6.0                  0.0   \n",
       "4            3.0          1.0         36.0       10.0                  0.0   \n",
       "...          ...          ...          ...        ...                  ...   \n",
       "9995        12.0          1.0         36.0        1.0                  0.0   \n",
       "9996        12.0          1.0         36.0        6.0                  0.0   \n",
       "9997        12.0          1.0         36.0        8.0                  1.0   \n",
       "9998        12.0          1.0         36.0       10.0                  1.0   \n",
       "9999        12.0          1.0         36.0        3.0                  0.0   \n",
       "\n",
       "      state_address  \n",
       "0               1.0  \n",
       "1               2.0  \n",
       "2               0.0  \n",
       "3               4.0  \n",
       "4               1.0  \n",
       "...             ...  \n",
       "9995            1.0  \n",
       "9996            2.0  \n",
       "9997            1.0  \n",
       "9998            2.0  \n",
       "9999            2.0  \n",
       "\n",
       "[10000 rows x 12 columns]"
      ]
     },
     "execution_count": 123,
     "metadata": {},
     "output_type": "execute_result"
    }
   ],
   "source": [
    "data_vz = pd.read_csv('loan-data-preprocessed-ready-to-vz.csv', dtype=float)\n",
    "data_vz"
   ]
  },
  {
   "cell_type": "code",
   "execution_count": 124,
   "id": "212f8ab8-58ed-4974-a101-1b3a976417d9",
   "metadata": {},
   "outputs": [
    {
     "data": {
      "image/png": "[encoded data removed]",
      "text/plain": [
       "<Figure size 1000x600 with 1 Axes>"
      ]
     },
     "metadata": {},
     "output_type": "display_data"
    }
   ],
   "source": [
    "import pandas as pd\n",
    "import matplotlib.pyplot as plt\n",
    "\n",
    "# --- Ensure numeric columns ---\n",
    "data_vz['loan_amnt'] = pd.to_numeric(data_vz['loan_amnt'], errors='coerce')\n",
    "data_vz['state_address'] = pd.to_numeric(data_vz['state_address'], errors='coerce')\n",
    "\n",
    "# --- Drop rows with missing values ---\n",
    "data_vz = data_vz.dropna(subset=['loan_amnt', 'state_address'])\n",
    "\n",
    "# --- Convert state_address to int to match mapping keys ---\n",
    "data_vz['state_address'] = data_vz['state_address'].astype(int)\n",
    "\n",
    "# --- Map numeric codes to region names ---\n",
    "region_map = {1: 'West', 2: 'South', 3: 'Midwest', 4: 'East'}\n",
    "\n",
    "# --- Keep only valid state_address values ---\n",
    "data_vz = data_vz[data_vz['state_address'].isin(region_map.keys())]\n",
    "\n",
    "# --- Group by state_address and sum loans ---\n",
    "loan_by_state = data_vz.groupby('state_address')['loan_amnt'].sum().sort_values(ascending=False)\n",
    "\n",
    "# --- Map index to region names ---\n",
    "loan_by_state.index = loan_by_state.index.map(region_map)\n",
    "\n",
    "# --- Plot with custom colors ---\n",
    "colors = ['#4C72B0', '#55A868', '#C44E52', '#8172B3']\n",
    "\n",
    "plt.figure(figsize=(10,6))\n",
    "bars = plt.bar(loan_by_state.index, loan_by_state.values, color=colors, width=0.6)\n",
    "\n",
    "# Add value labels on top of each bar\n",
    "for bar in bars:\n",
    "    yval = bar.get_height()\n",
    "    plt.text(bar.get_x() + bar.get_width()/2, yval + 500, f'{int(yval):,}', \n",
    "             ha='center', va='bottom', fontsize=10)\n",
    "\n",
    "# Title and labels\n",
    "plt.title(\"Total Loan Amount per Region\", fontsize=16, fontweight='bold')\n",
    "plt.xlabel(\"Region\", fontsize=12)\n",
    "plt.ylabel(\"Total Loan Amount\", fontsize=12)\n",
    "\n",
    "# Gridlines\n",
    "plt.grid(axis='y', linestyle='--', alpha=0.7)\n",
    "\n",
    "# X-axis labels horizontal\n",
    "plt.xticks(rotation=0)\n",
    "\n",
    "# Show full numbers on y-axis\n",
    "plt.ticklabel_format(style='plain', axis='y')\n",
    "\n",
    "plt.tight_layout()\n",
    "plt.show()\n",
    "\n"
   ]
  },
  {
   "cell_type": "code",
   "execution_count": 125,
   "id": "e03649c4-e55c-4244-a4c5-975aec272458",
   "metadata": {},
   "outputs": [
    {
     "data": {
      "text/plain": [
       "array(['0.0', '1.0', 'loan_status'], dtype='<U32')"
      ]
     },
     "execution_count": 125,
     "metadata": {},
     "output_type": "execute_result"
    }
   ],
   "source": [
    "np.unique(loan_data[:,7])"
   ]
  },
  {
   "cell_type": "code",
   "execution_count": 126,
   "id": "a968f2ef-015d-4d6e-b666-b2c2dd45a041",
   "metadata": {},
   "outputs": [
    {
     "data": {
      "image/png": "[encoded data removed]",
      "text/plain": [
       "<Figure size 800x600 with 1 Axes>"
      ]
     },
     "metadata": {},
     "output_type": "display_data"
    },
    {
     "name": "stdout",
     "output_type": "stream",
     "text": [
      "Correlation coefficient: 0.7961794099020039\n"
     ]
    }
   ],
   "source": [
    "import matplotlib.pyplot as plt\n",
    "import numpy as np\n",
    "from scipy.stats import linregress\n",
    "\n",
    "# Scatter plot\n",
    "plt.figure(figsize=(8,6))\n",
    "plt.scatter(data_vz['loan_amnt'], data_vz['funded_amnt'], alpha=0.5)\n",
    "\n",
    "# Linear regression to draw a trend line\n",
    "slope, intercept, r_value, p_value, std_err = linregress(data_vz['loan_amnt'], data_vz['funded_amnt'])\n",
    "x = np.array([data_vz['loan_amnt'].min(), data_vz['loan_amnt'].max()])\n",
    "y = slope * x + intercept\n",
    "plt.plot(x, y, color='red', linewidth=2, label=f'Fit line (r={r_value:.2f})')\n",
    "\n",
    "# Labels and title\n",
    "plt.title(\"Loan Amount vs Funded Amount\")\n",
    "plt.xlabel(\"Loan Amount\")\n",
    "plt.ylabel(\"Funded Amount\")\n",
    "plt.legend()\n",
    "plt.show()\n",
    "\n",
    "# Check correlation numerically\n",
    "correlation = data_vz['loan_amnt'].corr(data_vz['funded_amnt'])\n",
    "print(\"Correlation coefficient:\", correlation)\n"
   ]
  },
  {
   "cell_type": "code",
   "execution_count": 127,
   "id": "0cbd50da-ea78-427c-ac81-1ccb225d2b17",
   "metadata": {},
   "outputs": [
    {
     "data": {
      "image/png": "[encoded data removed]",
      "text/plain": [
       "<Figure size 800x600 with 1 Axes>"
      ]
     },
     "metadata": {},
     "output_type": "display_data"
    }
   ],
   "source": [
    "from scipy.stats import linregress\n",
    "slope, intercept, r_value, p_value, std_err = linregress(data_vz['funded_amnt'], data_vz['int_rate'])\n",
    "x = np.array([data_vz['funded_amnt'].min(), data_vz['funded_amnt'].max()])\n",
    "y = slope * x + intercept\n",
    "\n",
    "plt.figure(figsize=(8,6))\n",
    "plt.scatter(data_vz['funded_amnt'], data_vz['int_rate'], alpha=0.5)\n",
    "plt.plot(x, y, color='red', linewidth=2, label=f'Fit line (r={r_value:.2f})')\n",
    "plt.title(\"Funded Amount vs Interest Rate\")\n",
    "plt.xlabel(\"Funded Amount\")\n",
    "plt.ylabel(\"Interest Rate (%)\")\n",
    "plt.legend()\n",
    "plt.show()"
   ]
  },
  {
   "cell_type": "markdown",
   "id": "6086f9b1-be97-4955-bd07-2eb23668cedb",
   "metadata": {},
   "source": [
    "### THE END OF THE PROJECT THANK. YOU FOR YOUR PATIENCE!!!"
   ]
  }
 ],
 "metadata": {
  "kernelspec": {
   "display_name": "Python [conda env:base] *",
   "language": "python",
   "name": "conda-base-py"
  },
  "language_info": {
   "codemirror_mode": {
    "name": "ipython",
    "version": 3
   },
   "file_extension": ".py",
   "mimetype": "text/x-python",
   "name": "python",
   "nbconvert_exporter": "python",
   "pygments_lexer": "ipython3",
   "version": "3.13.5"
  }
 },
 "nbformat": 4,
 "nbformat_minor": 5
}
